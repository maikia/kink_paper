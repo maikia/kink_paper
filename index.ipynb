{
 "cells": [
  {
   "cell_type": "markdown",
   "metadata": {},
   "source": [
    "# List of figures\n",
    "click on the Figure name to access the notebook with the code of that figure\n",
    "\n",
    "[Figure 2](src/fig2/fig2ab.py.ipynb) - Action potential and its phase plot for the soma-axon model. Possibility to set sodium or not sodium in the soma\n",
    "\n",
    "[Figure 3](src/fig3/fig3.py.ipynb) - local field potential during action potential + intracellular AP in the soma and in the AIS + extracellular AP near soma and AIS\n",
    "\n",
    "[Figure 4](src/fig4/fig4b.py.ipynb) - I-V curve and the m variable in the AIS during voltage clamp in the soma-axon model\n",
    "\n",
    "[Figure 5](src/fig5/fig5.py.ipynb) - sodium, potassium and axial current during action potential in the AIS in the soma-axon model\n",
    "\n",
    "[Figure 6a](src/fig6/fig6a.py.ipynb) - Action potential for different values of intracellular resistivity in the soma-axon model\n",
    "[Figure 6b](src/fig6/fig6b.py.ipynb) - I-V curve and the m variable in the AIS during voltage clamp in the soma-axon model for different values of intracellular resistivity\n",
    "\n",
    "[Figure 7a](src/fig7/fig7a.py.ipynb) - Action potential and its phase plot for different size of the soma in the soma-axon model\n",
    "[Figure 7b](src/fig7/fig7b.py.ipynb) - I-V curve and the m variable in the AIS during voltage clamp for different size of the soma in the soma-axon model\n",
    "[Figure 7c](src/fig7/fig7c.py.ipynb) - voltage in different segments of the neuron during specific voltage value of the action potential in the soma-axon model\n",
    "[Figure 7d](src/fig7/fig7d.py.ipynb) - sodium, potassium and axial current during action potential in the AIS in the soma-axon model for different size of the soma in the soma-axon model\n",
    "\n",
    "[Figure 8](src/fig8/fig8.py.ipynb) - slope of the phase plot: fastest and at given values for given soma area in the soma-axon model\n",
    "\n",
    "[Figure 9a](src/fig9/fig9a.py.ipynb) - action potential and its phase plot in the soma-axon model with different location of AIS\n",
    "[Figure 9b](src/fig9/fig9b.py.ipynb) - I-V curve and the m variable in the AIS during voltage clamp in the soma-axon model with different location of AIS"
   ]
  }
 ],
 "metadata": {
  "kernelspec": {
   "display_name": "Python 2",
   "language": "python",
   "name": "python2"
  },
  "language_info": {
   "codemirror_mode": {
    "name": "ipython",
    "version": 2
   },
   "file_extension": ".py",
   "mimetype": "text/x-python",
   "name": "python",
   "nbconvert_exporter": "python",
   "pygments_lexer": "ipython2",
   "version": "2.7.11"
  }
 },
 "nbformat": 4,
 "nbformat_minor": 0
}
