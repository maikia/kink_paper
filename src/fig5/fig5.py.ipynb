{
 "cells": [
  {
   "cell_type": "markdown",
   "metadata": {},
   "source": [
    "Fig2a-b, current clamp, action potential and its phase plot"
   ]
  },
  {
   "cell_type": "code",
   "execution_count": 1,
   "metadata": {
    "collapsed": true
   },
   "outputs": [],
   "source": [
    "from neuron import h\n",
    "import numpy as np\n",
    "import os.path\n",
    "import sys\n",
    "sys.path.append('../../libs/')"
   ]
  },
  {
   "cell_type": "code",
   "execution_count": 2,
   "metadata": {
    "collapsed": false
   },
   "outputs": [
    {
     "data": {
      "text/plain": [
       "0.0"
      ]
     },
     "execution_count": 2,
     "metadata": {},
     "output_type": "execute_result"
    }
   ],
   "source": [
    "# load model\n",
    "# works only on linux\n",
    "model = '../../data/morphology/soma_axon.hoc'\n",
    "dllpath = '../../data/morphology/x86_64/.libs/libnrnmech.so'\n",
    "h.nrn_load_dll(dllpath)\n",
    "h.load_file(model)\n",
    "h.init_cell()"
   ]
  },
  {
   "cell_type": "code",
   "execution_count": 3,
   "metadata": {
    "collapsed": false
   },
   "outputs": [],
   "source": [
    "# parameters\n",
    "keep_soma_Na = True\n",
    "\n",
    "# simulation\n",
    "h.tstart = 0.\n",
    "h.tstop = 20.\n",
    "h.dt = 0.001\n",
    "rm = 30000.\n",
    "st_dur1 = 2.\n",
    "st_dur2 = 3.\n",
    "v_init = -70\n",
    "\n",
    "# morphology \n",
    "h.soma.L = 30.\n",
    "h.soma.diam = 20.\n",
    "h.soma.nseg = 6\n",
    "h.soma.g_pas = 1./rm\n",
    "h.soma.cm = 0.75\n",
    "\n",
    "h.axon.L = 50.\n",
    "h.axon.diam =1.\n",
    "h.axon.nseg = 10\n",
    "h.axon.g_pas = 1./rm\n",
    "h.axon.cm = 0.75 * 0.75\n",
    "\n",
    "# general\n",
    "h.rm = rm\n",
    "h.v_init = v_init\n",
    "h.ra = 150 \n",
    "h.c_m = 0.75\n",
    "h.xn = 1 \n",
    "\n",
    "# potassium\n",
    "h.Ek = -80. # mV # Fig2: = 80; Fig4b:\n",
    "h.gk = 1600.\n",
    "h.gkm = 0.3\n",
    "h.soma.gbar_kv = 1600/5.\n",
    "h.axon.gbar_kv = 1600.\n",
    "\n",
    "# sodium\n",
    "h.Ena = 60.\n",
    "h.gna = 8000.\n",
    "h.gkm_soma = 0.3\n",
    "if keep_soma_Na:\n",
    "    h.soma.gbar_na = 0.1*8000\n",
    "else:\n",
    "    h.soma.gbar_na = 0.\n",
    "h.axon.gbar_na = 8000.\n",
    "            \n",
    "# calcium (set no calcium in the model)\n",
    "h.gca = 0.\n",
    "h.gkca = 0.\n",
    "h.gca_soma = 0.\n",
    "h.gkca_soma = 0."
   ]
  },
  {
   "cell_type": "code",
   "execution_count": 4,
   "metadata": {
    "collapsed": false
   },
   "outputs": [],
   "source": [
    "# create I-clamp stimulation\n",
    "st = h.IClamp(0.5, sec = h.soma)\n",
    "st.dur = 7 # ms\n",
    "st.delay = 1\n",
    "st.amp = 0.04"
   ]
  },
  {
   "cell_type": "code",
   "execution_count": 5,
   "metadata": {
    "collapsed": false
   },
   "outputs": [
    {
     "data": {
      "text/plain": [
       "0.0"
      ]
     },
     "execution_count": 5,
     "metadata": {},
     "output_type": "execute_result"
    }
   ],
   "source": [
    "# record in the soma and in the axon end\n",
    "vec_axon_v = h.Vector()\n",
    "vec_axon_v.record(h.axon(0.99)._ref_v, sec=h.axon)\n",
    "vec_axon_ina = h.Vector()\n",
    "vec_axon_ina.record(h.soma(0.5)._ref_ina, sec=h.soma)\n",
    "vec_axon_ik = h.Vector()\n",
    "vec_axon_ik.record(h.soma(0.5)._ref_ik, sec=h.soma)\n",
    "h.run()"
   ]
  },
  {
   "cell_type": "code",
   "execution_count": 6,
   "metadata": {
    "collapsed": false
   },
   "outputs": [
    {
     "data": {
      "image/png": "[encoded data removed]",
      "text/plain": [
       "<matplotlib.figure.Figure at 0x7f9e0b9a2cd0>"
      ]
     },
     "metadata": {},
     "output_type": "display_data"
    }
   ],
   "source": [
    "vec_axon_ina = np.array(vec_axon_ina)\n",
    "vec_axon_ik = np.array(vec_axon_ik)\n",
    "vec_axon_v = np.array(vec_axon_v)\n",
    "\n",
    "limit = np.argmax(vec_axon_v)\n",
    "# plot the figure\n",
    "import matplotlib.pylab as plt\n",
    "%matplotlib inline\n",
    "plt.subplot(2,1,1)\n",
    "time = np.arange(len(vec_axon_ik))*h.dt\n",
    "limit = time[limit]\n",
    "plt.plot(time, vec_axon_v, 'b', label = 'spike')\n",
    "plt.xlim([5,limit])\n",
    "\n",
    "plt.subplot(2,1,2)\n",
    "plt.plot(time, vec_axon_ik, 'r', label = 'K')\n",
    "plt.plot(time, vec_axon_ina, 'b', label = 'Na')\n",
    "\n",
    "\n",
    "plt.legend()\n",
    "plt.xlabel('time (ms)')\n",
    "plt.ylabel('voltage (mV)')\n",
    "plt.xlim([5,limit])\n",
    "'''\n",
    "plt.subplot(1,2,2)\n",
    "deriv_soma = np.diff(v_soma)/h.dt\n",
    "deriv_axon = np.diff(v_axon)/h.dt\n",
    "plt.plot(v_soma[:-1], deriv_soma, 'r', label = 'soma')\n",
    "plt.plot(v_axon[:-1], deriv_axon, 'b', label = 'axon')\n",
    "plt.ylabel('dV/dt (mV/ms)')\n",
    "plt.xlabel('voltage (mV)')\n",
    "plt.title('phase plot')\n",
    "'''\n",
    "plt.tight_layout()"
   ]
  }
 ],
 "metadata": {
  "kernelspec": {
   "display_name": "Python 2",
   "language": "python",
   "name": "python2"
  },
  "language_info": {
   "codemirror_mode": {
    "name": "ipython",
    "version": 2
   },
   "file_extension": ".py",
   "mimetype": "text/x-python",
   "name": "python",
   "nbconvert_exporter": "python",
   "pygments_lexer": "ipython2",
   "version": "2.7.11"
  }
 },
 "nbformat": 4,
 "nbformat_minor": 0
}
