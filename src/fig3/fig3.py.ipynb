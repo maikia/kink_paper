{
 "cells": [
  {
   "cell_type": "markdown",
   "metadata": {},
   "source": [
    "Fig3, LFP during action potential"
   ]
  },
  {
   "cell_type": "code",
   "execution_count": 1,
   "metadata": {
    "collapsed": true
   },
   "outputs": [],
   "source": [
    "from neuron import h\n",
    "import numpy as np\n",
    "import os.path\n",
    "import sys\n",
    "sys.path.append('../../libs/')"
   ]
  },
  {
   "cell_type": "code",
   "execution_count": 2,
   "metadata": {
    "collapsed": false
   },
   "outputs": [
    {
     "data": {
      "text/plain": [
       "0.0"
      ]
     },
     "execution_count": 2,
     "metadata": {},
     "output_type": "execute_result"
    }
   ],
   "source": [
    "# load model\n",
    "# works only on linux\n",
    "model = '../../data/morphology/soma_axon.hoc'\n",
    "dllpath = '../../data/morphology/x86_64/.libs/libnrnmech.so'\n",
    "h.nrn_load_dll(dllpath)\n",
    "h.load_file(model)\n",
    "h.init_cell()"
   ]
  },
  {
   "cell_type": "code",
   "execution_count": 3,
   "metadata": {
    "collapsed": false
   },
   "outputs": [],
   "source": [
    "# parameters\n",
    "keep_soma_Na = True\n",
    "#soma_size = 1 # 1, 30, 50 um\n",
    "#stim_amp = 0.0037\n",
    "# use different amplitude for stimulation depending on the soma size size:amplitude \n",
    "# (1:0.0037,30:0.033,50:0.4)\n",
    "\n",
    "# simulation\n",
    "h.tstart = 0.\n",
    "h.tstop = 20.\n",
    "h.dt = 0.001\n",
    "rm = 30000.\n",
    "st_dur1 = 2.\n",
    "st_dur2 = 3.\n",
    "v_init = -70\n",
    "\n",
    "# morphology \n",
    "h.soma.L = 30.\n",
    "h.soma.diam = 20.\n",
    "h.soma.nseg = 6\n",
    "h.soma.g_pas = 1./rm\n",
    "h.soma.cm = 0.75\n",
    "\n",
    "h.axon.L = 50.\n",
    "h.axon.diam =1.\n",
    "h.axon.nseg = 10\n",
    "h.axon.g_pas = 1./rm\n",
    "h.axon.cm = 0.75 * 0.75\n",
    "\n",
    "# general\n",
    "h.rm = rm\n",
    "h.v_init = v_init\n",
    "h.ra = 150 \n",
    "h.c_m = 0.75\n",
    "h.xn = 1 \n",
    "\n",
    "# potassium\n",
    "h.Ek = -80. # mV # Fig2: = 80; Fig4b:\n",
    "h.gk = 1600.\n",
    "h.gkm = 0.3\n",
    "h.soma.gbar_kv = 1600/5.\n",
    "h.axon.gbar_kv = 1600.\n",
    "\n",
    "# sodium\n",
    "h.Ena = 60.\n",
    "h.gna = 8000.\n",
    "h.gkm_soma = 0.3\n",
    "if keep_soma_Na:\n",
    "    h.soma.gbar_na = 0.1*8000\n",
    "else:\n",
    "    h.soma.gbar_na = 0.\n",
    "h.axon.gbar_na = 8000.\n",
    "            \n",
    "# calcium (set no calcium in the model)\n",
    "h.gca = 0.\n",
    "h.gkca = 0.\n",
    "h.gca_soma = 0.\n",
    "h.gkca_soma = 0."
   ]
  },
  {
   "cell_type": "code",
   "execution_count": 4,
   "metadata": {
    "collapsed": false
   },
   "outputs": [],
   "source": [
    "# create I-clamp stimulation\n",
    "st = h.IClamp(0.5, sec = h.soma)\n",
    "st.dur = 7 # ms\n",
    "st.delay = 1\n",
    "st.amp = 0.03"
   ]
  },
  {
   "cell_type": "code",
   "execution_count": 5,
   "metadata": {
    "collapsed": false
   },
   "outputs": [
    {
     "name": "stderr",
     "output_type": "stream",
     "text": [
      "/home/maja/anaconda/lib/python2.7/site-packages/ipykernel/__main__.py:8: DeprecationWarning: using a non-integer number instead of an integer will result in an error in the future\n",
      "/home/maja/anaconda/lib/python2.7/site-packages/ipykernel/__main__.py:9: DeprecationWarning: using a non-integer number instead of an integer will result in an error in the future\n",
      "/home/maja/anaconda/lib/python2.7/site-packages/ipykernel/__main__.py:25: DeprecationWarning: using a non-integer number instead of an integer will result in an error in the future\n"
     ]
    }
   ],
   "source": [
    "# LFP\n",
    "from neuroneap import field, cell, graph\n",
    "\n",
    "run_time = 10\n",
    "time_range = [6.2,7.4]\n",
    "\n",
    "t, I, v_memb = cell.integrate(run_time)\n",
    "I = I[time_range[0]/h.dt:time_range[1]/h.dt]\n",
    "v_memb = v_memb[time_range[0]/h.dt:time_range[1]/h.dt]\n",
    "run_time = time_range[1]-time_range[0]\n",
    "\n",
    "h.define_shape()\n",
    "seg_coords = cell.get_seg_coords()\n",
    "\n",
    "# calculate the field for the whole grid\n",
    "x_range = [-80, 150]\n",
    "y_range = [-80, 80]\n",
    "\n",
    "n_samp = 200 #200 # grid size will be n_samp x n_samp\n",
    "xx, yy = field.calc_grid(x_range, y_range, n_samp) # define grid\n",
    "\n",
    "# estimates the field in every defined point of the grid\n",
    "v_ext = field.estimate_on_grid(seg_coords, I, xx, yy)\n",
    "\n",
    "v_memb_soma = v_memb[:,h.soma.nseg/2.]\n",
    "v_memb_axon = v_memb[:,-1]\n"
   ]
  },
  {
   "cell_type": "code",
   "execution_count": 6,
   "metadata": {
    "collapsed": false
   },
   "outputs": [
    {
     "data": {
      "text/plain": [
       "'\\n# record in the soma and in the axon end\\nvec_soma = h.Vector()\\nvec_soma.record(h.soma(0.5)._ref_v, sec=h.soma)\\nvec_axon_end = h.Vector()\\nvec_axon_end.record(h.axon(0.99)._ref_v, sec=h.axon)\\nh.run()\\n'"
      ]
     },
     "execution_count": 6,
     "metadata": {},
     "output_type": "execute_result"
    }
   ],
   "source": [
    "'''\n",
    "# record in the soma and in the axon end\n",
    "vec_soma = h.Vector()\n",
    "vec_soma.record(h.soma(0.5)._ref_v, sec=h.soma)\n",
    "vec_axon_end = h.Vector()\n",
    "vec_axon_end.record(h.axon(0.99)._ref_v, sec=h.axon)\n",
    "h.run()\n",
    "'''"
   ]
  },
  {
   "cell_type": "code",
   "execution_count": 7,
   "metadata": {
    "collapsed": false
   },
   "outputs": [],
   "source": [
    "# plots\n",
    "axon_color = 'teal'\n",
    "soma_color = 'darkorange'\n",
    "\n",
    "import matplotlib.colors as colors\n",
    "\n",
    "v_ext = v_ext / 1e3 # change v_ext from nano to micro volts\n",
    "idx_to_plot = 926\n",
    "\n",
    "def helper_provide_imshow_details(v_ext, x_range, y_range):\n",
    "\n",
    "    # make logarithmic scale from both sides\n",
    "    mycmap = plt.cm.get_cmap('coolwarm') #get colormap\n",
    "\n",
    "    colormap_range = np.min([np.max(v_ext),np.abs(np.min(v_ext))])\n",
    "    colormap_range_ceil = (-colormap_range, colormap_range)\n",
    "\n",
    "    # aspect of the colormap\n",
    "    if np.sum(x_range) > 500:\n",
    "        aspect = 5.9\n",
    "    elif np.sum(np.abs(y_range)) > 500:\n",
    "        aspect = 0.2\n",
    "    else:\n",
    "        aspect = 0.8\n",
    "\n",
    "    if colormap_range > 100:\n",
    "        colormap_range = ([int(-colormap_range/100.0)*100, int(colormap_range/100.0)*100])\n",
    "    elif colormap_range > 10:\n",
    "        colormap_range = ([int(-colormap_range/10.0)*10, int(colormap_range/10.0)*10])\n",
    "    else:\n",
    "        colormap_range = ([int(-colormap_range), int(colormap_range)])\n",
    "\n",
    "    one_forth_colormap = int(np.floor(colormap_range[1]/4.))\n",
    "\n",
    "    return mycmap, colormap_range_ceil, aspect, one_forth_colormap, colormap_range\n",
    "\n",
    "def helper_define_tick_space(x_range, y_range):\n",
    "    if sum(x_range) > 100:\n",
    "        tick_space_x = 100\n",
    "    else:\n",
    "        tick_space_x = 20\n",
    "    if sum(y_range) > 100:\n",
    "        tick_space_y = 100\n",
    "    else:\n",
    "        tick_space_y = 20\n",
    "\n",
    "    ytics = [-idx for idx in range(0, abs(y_range[0]), tick_space_y)][::-1] + [idx for idx in range(0, abs(y_range[1]), tick_space_y)][1:]\n",
    "    if int(min(ytics)) == 0:\n",
    "        y_tic_label = ['0']+ ['']*int(np.abs((ytics[-1]/tick_space_y))-1.) +[str(max(ytics))]\n",
    "    else:\n",
    "        y_tic_label = [str(min(ytics))] + ['']*int(np.abs((ytics[0]/tick_space_y))-1.) + ['0']+ ['']*int(np.abs((ytics[-1]/tick_space_y))-1.) +[str(max(ytics))]\n",
    "\n",
    "    xtics = [-idx for idx in range(0, abs(x_range[0]), tick_space_x)][::-1] + [idx for idx in range(0, int(abs(x_range[1])), tick_space_x)][1:]\n",
    "    if int(min(xtics)) == 0:\n",
    "        x_tic_label = ['0']+ ['']*int(np.abs((xtics[-1]/tick_space_x))-1.) +[str(int(max(xtics)))]\n",
    "    else:\n",
    "        x_tic_label = [str(int(min(xtics)))] + ['']*int(np.abs((xtics[0]/tick_space_x))-1.) + ['0']+ ['']*int(np.abs((xtics[-1]/tick_space_x))-1.) +[str(int(max(xtics)))]\n",
    "\n",
    "    return x_tic_label, xtics, y_tic_label, ytics\n",
    "\n",
    "def draw_neuron_shape(diam_soma, min_soma_x, max_soma_x,\n",
    "                      diam_axon, min_axon_x, max_axon_x,\n",
    "                      init_spike_axon_dist = np.nan):\n",
    "    currentAxis = plt.gca()\n",
    "    from matplotlib.patches import Rectangle\n",
    "\n",
    "    currentAxis.add_patch(Rectangle((min_soma_x, 0.0 - 0.5*diam_soma), max_soma_x-min_soma_x, diam_soma,\n",
    "                                    edgecolor= 'r', color = 'w', fill=True, alpha=1))\n",
    "    currentAxis.add_patch(Rectangle((min_axon_x, 0.0 - 0.5*diam_axon), max_axon_x-min_axon_x, diam_axon,\n",
    "                                    edgecolor= 'b', color = 'w', fill=True, alpha=1))\n",
    "\n",
    "    if not np.isnan(init_spike_axon_dist):\n",
    "        # plot the initiation place\n",
    "        currentAxis.add_patch(Rectangle((min_axon_x+init_spike_axon_dist, 0.0 - 0.5*diam_axon),0.5, diam_axon,\n",
    "                                        edgecolor= 'r', color = 'r', fill=True, alpha=1))"
   ]
  },
  {
   "cell_type": "code",
   "execution_count": 17,
   "metadata": {
    "collapsed": false
   },
   "outputs": [
    {
     "name": "stderr",
     "output_type": "stream",
     "text": [
      "/home/maja/anaconda/lib/python2.7/site-packages/ipykernel/__main__.py:41: DeprecationWarning: using a non-integer number instead of an integer will result in an error in the future\n",
      "/home/maja/anaconda/lib/python2.7/site-packages/ipykernel/__main__.py:42: DeprecationWarning: using a non-integer number instead of an integer will result in an error in the future\n"
     ]
    },
    {
     "data": {
      "image/png": "[encoded data removed]",
      "text/plain": [
       "<matplotlib.figure.Figure at 0x7efff89eb390>"
      ]
     },
     "metadata": {},
     "output_type": "display_data"
    },
    {
     "data": {
      "image/png": "[encoded data removed]",
      "text/plain": [
       "<matplotlib.figure.Figure at 0x7efff9751f10>"
      ]
     },
     "metadata": {},
     "output_type": "display_data"
    }
   ],
   "source": [
    "import matplotlib.pylab as plt\n",
    "%matplotlib inline\n",
    "plt.plot(v_memb_soma)\n",
    "plt.figure()\n",
    "ax = plt.subplot(1,2,1)\n",
    "mycmap, colormap_range_ceil, aspect, one_forth_colormap,colormap_range = helper_provide_imshow_details(v_ext, x_range, y_range)\n",
    "pcm = plt.imshow(v_ext[idx_to_plot,:,:], interpolation=\"nearest\",\n",
    "                     norm=colors.SymLogNorm(linthresh=0.01 * np.max(v_ext),\n",
    "                                            linscale = 1.0,\n",
    "                                            vmin=colormap_range_ceil[0], vmax=colormap_range_ceil[1]),\n",
    "        origin='lower',\n",
    "         aspect=aspect,\n",
    "        extent=(x_range[0], x_range[1], y_range[0], y_range[1]),\n",
    "                     cmap = mycmap)\n",
    "\n",
    "x_tic_label, xtics, y_tic_label, ytics = helper_define_tick_space(x_range, y_range)\n",
    "ax.set_yticks(ytics)\n",
    "ax.set_yticklabels(y_tic_label)\n",
    "ax.set_xticks(xtics)\n",
    "ax.set_xticklabels(x_tic_label)\n",
    "\n",
    "plt.ylabel(r\"space ($\\mu$m)\")\n",
    "cbar = plt.colorbar(pcm,  extend='both', drawedges = False) #ax=ax[0],\n",
    "\n",
    "cbar.set_ticks([colormap_range[0],-one_forth_colormap, 0, one_forth_colormap, colormap_range[1]])\n",
    "cbar.set_ticklabels([str(colormap_range[0]),str(-one_forth_colormap),'0',str(one_forth_colormap),colormap_range[1]])\n",
    "\n",
    "cbar.set_label(r\"voltage ($\\mu$V)\", fontsize = 18)\n",
    "cbar.ax.tick_params(labelsize = 16)\n",
    "\n",
    "min_soma_x = min(seg_coords[seg_coords['name'] == 'soma']['x0'])\n",
    "max_soma_x = max(seg_coords[seg_coords['name'] == 'soma']['x1'])\n",
    "diam_soma = seg_coords[seg_coords['name'] == 'soma']['diam'][0]\n",
    "min_axon_x = min(seg_coords[seg_coords['name'] == 'axon']['x0'])\n",
    "max_axon_x = max(seg_coords[seg_coords['name'] == 'axon']['x1'])\n",
    "diam_axon = seg_coords[seg_coords['name'] == 'axon']['diam'][0]\n",
    "\n",
    "# draw streamplot (arrows)\n",
    "U = -np.diff(v_ext[idx_to_plot, :, :], axis=0)[:, :-1]\n",
    "V = -np.diff(v_ext[idx_to_plot, : ,:], axis=1)[:-1, :]\n",
    "U[min_soma_x:max_soma_x, -0.5*diam_soma:0.5*diam_soma] = 0\n",
    "V[min_soma_x:max_soma_x, -0.5*diam_soma:0.5*diam_soma] = 0\n",
    "    \n",
    "plt.streamplot(xx[0, :-1], yy[:-1, 0], V, U, density = 1.0, color = 'k')\n",
    "\n",
    "# plot shape of the neuron\n",
    "draw_neuron_shape(diam_soma, min_soma_x, max_soma_x,\n",
    "                      diam_axon, min_axon_x, max_axon_x,\n",
    "                      init_spike_axon_dist=np.nan)\n",
    "\n",
    "timeline = np.arange(0,(len(v_memb_axon))*h.dt-1e-10, h.dt)\n",
    "\n",
    "ax0 = plt.subplot(2,2,2)\n",
    "plt.plot(timeline, v_memb_axon, color = axon_color, label='axon end', lw = 3)\n",
    "plt.plot(timeline, v_memb_soma, color = soma_color, label = 'soma', lw = 3)\n",
    "plt.plot(timeline[idx_to_plot], v_memb_soma[idx_to_plot], 'o', color = 'k', ms = 5)\n",
    "plt.plot(timeline[idx_to_plot], v_memb_axon[idx_to_plot], 'o', color = 'k', ms = 5)\n",
    "\n",
    "start_timeline = 0 #min(timeline)\n",
    "end_timeline = np.round(timeline[-1],2) #x_range[1]\n",
    "middle_timeline = np.round(np.mean([start_timeline,end_timeline]),2)\n",
    "\n",
    "ax0.set_xticks([start_timeline, middle_timeline, end_timeline])\n",
    "ax0.set_xticklabels([str(start_timeline), str(middle_timeline), str(end_timeline)])\n",
    "ax0.set_yticks([-80, -60, -40, -20, 0, 20, 40, 60])\n",
    "ax0.set_yticklabels(['', '-60', '', '', '0', '', '', '60'])\n",
    "plt.xlim([start_timeline, end_timeline])\n",
    "plt.xlabel('time (ms)')\n",
    "plt.ylabel('voltage (mV)')\n",
    "plt.legend()\n",
    "plt.title('intracellular')\n",
    "\n",
    "plt.subplot(2,2,4)\n",
    "\n",
    "plt.tight_layout()"
   ]
  }
 ],
 "metadata": {
  "kernelspec": {
   "display_name": "Python 2",
   "language": "python",
   "name": "python2"
  },
  "language_info": {
   "codemirror_mode": {
    "name": "ipython",
    "version": 2
   },
   "file_extension": ".py",
   "mimetype": "text/x-python",
   "name": "python",
   "nbconvert_exporter": "python",
   "pygments_lexer": "ipython2",
   "version": "2.7.11"
  }
 },
 "nbformat": 4,
 "nbformat_minor": 0
}
