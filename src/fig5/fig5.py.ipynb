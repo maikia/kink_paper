{
 "cells": [
  {
   "cell_type": "markdown",
   "metadata": {},
   "source": [
    "Fig5, current clamp, currents during action potential"
   ]
  },
  {
   "cell_type": "code",
   "execution_count": 1,
   "metadata": {
    "collapsed": true
   },
   "outputs": [],
   "source": [
    "from neuron import h\n",
    "import numpy as np\n",
    "import os.path\n",
    "import sys\n",
    "sys.path.append('../../libs/')"
   ]
  },
  {
   "cell_type": "code",
   "execution_count": 2,
   "metadata": {
    "collapsed": false
   },
   "outputs": [
    {
     "data": {
      "text/plain": [
       "0.0"
      ]
     },
     "execution_count": 2,
     "metadata": {},
     "output_type": "execute_result"
    }
   ],
   "source": [
    "# load model\n",
    "# works only on linux\n",
    "model = '../../data/morphology/soma_axon.hoc'\n",
    "dllpath = '../../data/morphology/x86_64/.libs/libnrnmech.so'\n",
    "h.nrn_load_dll(dllpath)\n",
    "h.load_file(model)\n",
    "h.init_cell()"
   ]
  },
  {
   "cell_type": "code",
   "execution_count": 3,
   "metadata": {
    "collapsed": false
   },
   "outputs": [],
   "source": [
    "# parameters\n",
    "keep_soma_Na = True\n",
    "\n",
    "# simulation\n",
    "h.tstart = 0.\n",
    "h.tstop = 20.\n",
    "h.dt = 0.001\n",
    "rm = 30000.\n",
    "st_dur1 = 2.\n",
    "st_dur2 = 3.\n",
    "v_init = -70\n",
    "\n",
    "# morphology \n",
    "h.soma.L = 30.\n",
    "h.soma.diam = 20.\n",
    "h.soma.nseg = 1\n",
    "h.soma.g_pas = 1./rm\n",
    "h.soma.cm = 0.75\n",
    "\n",
    "h.axon.L = 50.\n",
    "h.axon.diam =1.\n",
    "h.axon.nseg = 10\n",
    "h.axon.g_pas = 1./rm\n",
    "h.axon.cm = 0.75 * 0.75\n",
    "\n",
    "# general\n",
    "h.rm = rm\n",
    "h.v_init = v_init\n",
    "h.ra = 150 \n",
    "h.c_m = 0.75\n",
    "h.xn = 1 \n",
    "\n",
    "# potassium\n",
    "h.Ek = -80. # mV # Fig2: = 80; Fig4b:\n",
    "h.gk = 1600.\n",
    "h.gkm = 0.3\n",
    "h.soma.gbar_kv = 1600/5.\n",
    "h.axon.gbar_kv = 1600.\n",
    "\n",
    "# sodium\n",
    "h.Ena = 60.\n",
    "h.gna = 8000.\n",
    "h.gkm_soma = 0.3\n",
    "if keep_soma_Na:\n",
    "    h.soma.gbar_na = 0.1*8000\n",
    "else:\n",
    "    h.soma.gbar_na = 0.\n",
    "h.axon.gbar_na = 8000.\n",
    "            \n",
    "# calcium (set no calcium in the model)\n",
    "h.gca = 0.\n",
    "h.gkca = 0.\n",
    "h.gca_soma = 0.\n",
    "h.gkca_soma = 0."
   ]
  },
  {
   "cell_type": "code",
   "execution_count": 4,
   "metadata": {
    "collapsed": false
   },
   "outputs": [],
   "source": [
    "# create I-clamp stimulation\n",
    "st = h.IClamp(0.5, sec = h.soma)\n",
    "st.dur = 7 # ms\n",
    "st.delay = 1\n",
    "st.amp = 0.04"
   ]
  },
  {
   "cell_type": "code",
   "execution_count": 5,
   "metadata": {
    "collapsed": false
   },
   "outputs": [
    {
     "data": {
      "text/plain": [
       "0.0"
      ]
     },
     "execution_count": 5,
     "metadata": {},
     "output_type": "execute_result"
    }
   ],
   "source": [
    "# record currents throughout the axon\n",
    "k_current_axon = []\n",
    "na_current_axon = []\n",
    "area_axon_segs = []\n",
    "# create vectors for recording currents from the axon\n",
    "for idx in range(h.axon.nseg): #seg in eval(axon_name_sec + '.allseg()'):\n",
    "    next_seg = 0.+(1./h.axon.nseg/2.)+idx*2*(1./h.axon.nseg/2.)\n",
    "    # Na and K\n",
    "    k_current_axon.append(h.Vector())\n",
    "    k_current_axon[-1].record(h.axon(next_seg)._ref_ik, sec=h.axon)\n",
    "    na_current_axon.append(h.Vector())\n",
    "    na_current_axon[-1].record(h.axon(next_seg)._ref_ina, sec=h.axon)\n",
    "    \n",
    "    area_axon_segs.append(h.axon(next_seg).area())\n",
    "\n",
    "end_axon_v = h.Vector()\n",
    "end_axon_v.record(h.axon(next_seg)._ref_v, sec=h.axon)\n",
    "\n",
    "# create vectors for recording capacitive current\n",
    "vec_axon_start = h.Vector()\n",
    "vec_axon_start.record(h.axon(0.01)._ref_v, sec=h.axon)\n",
    "\n",
    "vec_soma_end = h.Vector()\n",
    "vec_soma_end.record(h.soma(0.99)._ref_v, sec=h.soma)\n",
    "\n",
    "h.run()"
   ]
  },
  {
   "cell_type": "code",
   "execution_count": 7,
   "metadata": {
    "collapsed": false
   },
   "outputs": [],
   "source": [
    "k_current_axon_all = 0\n",
    "na_current_axon_all = 0\n",
    "assert len(k_current_axon) == len(na_current_axon)\n",
    "for idx in range(len(k_current_axon)):\n",
    "    k_current_axon_all += np.array(k_current_axon[idx])*area_axon_segs[idx]* 1e-2\n",
    "    na_current_axon_all += np.array(na_current_axon[idx])*area_axon_segs[idx]* 1e-2\n",
    "\n",
    "end_axon_v = np.array(end_axon_v)\n",
    "v_soma_end = np.array(vec_soma_end)\n",
    "v_axon_start = np.array(vec_axon_start)\n",
    "ri_axonstart = h.axon(0.01).ri()\n",
    "axial_i = (v_axon_start-v_soma_end)/ri_axonstart"
   ]
  },
  {
   "cell_type": "code",
   "execution_count": 8,
   "metadata": {
    "collapsed": false
   },
   "outputs": [
    {
     "data": {
      "image/png": "[encoded data removed]",
      "text/plain": [
       "<matplotlib.figure.Figure at 0x7f920f5fe8d0>"
      ]
     },
     "metadata": {},
     "output_type": "display_data"
    }
   ],
   "source": [
    "# plot the figure\n",
    "import matplotlib.pylab as plt\n",
    "%matplotlib inline\n",
    "limit = np.argmax(end_axon_v)\n",
    "\n",
    "plt.subplot(2,1,1)\n",
    "plt.title('Action potential in AIS')\n",
    "time = np.arange(len(end_axon_v))*h.dt\n",
    "limit = time[limit]\n",
    "plt.plot(time, end_axon_v, 'b', label = 'spike')\n",
    "plt.xlim([5,limit])\n",
    "plt.xlabel('voltage (mV)')\n",
    "\n",
    "plt.subplot(2,1,2)\n",
    "plt.plot(time, k_current_axon_all, 'g', label = '(-)K')\n",
    "plt.plot(time, na_current_axon_all*(-1), 'r', label = 'Na')\n",
    "plt.plot(time, axial_i, 'k', label = '(-)axial')\n",
    "\n",
    "plt.legend()\n",
    "plt.xlabel('time (ms)')\n",
    "plt.ylabel('I (nA)')\n",
    "plt.xlim([5,limit])\n",
    "plt.ylim([0,0.8])\n",
    "\n",
    "plt.tight_layout()"
   ]
  }
 ],
 "metadata": {
  "kernelspec": {
   "display_name": "Python 2",
   "language": "python",
   "name": "python2"
  },
  "language_info": {
   "codemirror_mode": {
    "name": "ipython",
    "version": 2
   },
   "file_extension": ".py",
   "mimetype": "text/x-python",
   "name": "python",
   "nbconvert_exporter": "python",
   "pygments_lexer": "ipython2",
   "version": "2.7.11"
  }
 },
 "nbformat": 4,
 "nbformat_minor": 0
}
