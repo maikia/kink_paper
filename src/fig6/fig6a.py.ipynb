{
 "cells": [
  {
   "cell_type": "markdown",
   "metadata": {},
   "source": [
    "Fig2a-b, current clamp, action potential and its phase plot"
   ]
  },
  {
   "cell_type": "code",
   "execution_count": 1,
   "metadata": {
    "collapsed": true
   },
   "outputs": [],
   "source": [
    "from neuron import h\n",
    "import numpy as np\n",
    "import os.path\n",
    "import sys\n",
    "sys.path.append('../../libs/')"
   ]
  },
  {
   "cell_type": "code",
   "execution_count": 2,
   "metadata": {
    "collapsed": false
   },
   "outputs": [
    {
     "data": {
      "text/plain": [
       "0.0"
      ]
     },
     "execution_count": 2,
     "metadata": {},
     "output_type": "execute_result"
    }
   ],
   "source": [
    "# load model\n",
    "# works only on linux\n",
    "model = '../../data/morphology/soma_axon.hoc'\n",
    "dllpath = '../../data/morphology/x86_64/.libs/libnrnmech.so'\n",
    "h.nrn_load_dll(dllpath)\n",
    "h.load_file(model)\n",
    "h.init_cell()"
   ]
  },
  {
   "cell_type": "code",
   "execution_count": 3,
   "metadata": {
    "collapsed": false
   },
   "outputs": [],
   "source": [
    "# parameters\n",
    "keep_soma_Na = True\n",
    "change_to_Ra = 1 # 30, 150, 250\n",
    "\n",
    "# simulation\n",
    "h.tstart = 0.\n",
    "h.tstop = 20.\n",
    "h.dt = 0.001\n",
    "rm = 30000.\n",
    "st_dur1 = 2.\n",
    "st_dur2 = 3.\n",
    "v_init = -70\n",
    "\n",
    "# morphology \n",
    "h.soma.L = 30.\n",
    "h.soma.diam = 20.\n",
    "h.soma.nseg = 6\n",
    "h.soma.g_pas = 1./rm\n",
    "h.soma.cm = 0.75\n",
    "\n",
    "h.axon.L = 50.\n",
    "h.axon.diam =1.\n",
    "h.axon.nseg = 10\n",
    "h.axon.g_pas = 1./rm\n",
    "h.axon.cm = 0.75 * 0.75\n",
    "\n",
    "# general\n",
    "h.rm = rm\n",
    "h.v_init = v_init\n",
    "h.ra = 150 \n",
    "h.c_m = 0.75\n",
    "h.xn = 1 \n",
    "\n",
    "# potassium\n",
    "h.Ek = -80. # mV # Fig2: = 80; Fig4b:\n",
    "h.gk = 1600.\n",
    "h.gkm = 0.3\n",
    "h.soma.gbar_kv = 1600/5.\n",
    "h.axon.gbar_kv = 1600.\n",
    "\n",
    "# sodium\n",
    "h.Ena = 60.\n",
    "h.gna = 8000.\n",
    "h.gkm_soma = 0.3\n",
    "if keep_soma_Na:\n",
    "    h.soma.gbar_na = 0.1*8000\n",
    "else:\n",
    "    h.soma.gbar_na = 0.\n",
    "h.axon.gbar_na = 8000.\n",
    "            \n",
    "# calcium (set no calcium in the model)\n",
    "h.gca = 0.\n",
    "h.gkca = 0.\n",
    "h.gca_soma = 0.\n",
    "h.gkca_soma = 0.\n",
    "\n",
    "# change Ra\n",
    "h.axon.Ra = change_to_Ra\n",
    "h.soma.Ra = change_to_Ra"
   ]
  },
  {
   "cell_type": "code",
   "execution_count": 4,
   "metadata": {
    "collapsed": false
   },
   "outputs": [
    {
     "name": "stderr",
     "output_type": "stream",
     "text": [
      "/home/maja/anaconda/lib/python2.7/site-packages/ipykernel/__main__.py:9: DeprecationWarning: using a non-integer number instead of an integer will result in an error in the future\n",
      "/home/maja/anaconda/lib/python2.7/site-packages/ipykernel/__main__.py:16: DeprecationWarning: using a non-integer number instead of an integer will result in an error in the future\n"
     ]
    },
    {
     "data": {
      "text/plain": [
       "1.0"
      ]
     },
     "execution_count": 4,
     "metadata": {},
     "output_type": "execute_result"
    }
   ],
   "source": [
    "# create I-clamp stimulation\n",
    "st = h.IClamp(0.5, sec = h.soma)\n",
    "\n",
    "# create ramp stimulation\n",
    "st.delay=0\n",
    "st.dur=1e9\n",
    "st.amp =0\n",
    "h.tstop = 30\n",
    "ramp = np.zeros(h.tstop/h.dt) # ms\n",
    "ramp_range = [0,h.tstop-0.5]\n",
    "start_ramp_at = 0.5/h.dt\n",
    "min_ramp = 0.0\n",
    "max_ramp = 0.04\n",
    "ramp[ramp_range[0]/h.dt+start_ramp_at:ramp_range[1]/h.dt+ start_ramp_at] = np.linspace(min_ramp,\n",
    "                                                                            max_ramp,\n",
    "                                                                            (ramp_range[1]/h.dt-ramp_range[0]/h.dt))\n",
    "stim_vec = h.Vector(ramp)\n",
    "stim_vec.play(st._ref_amp, h.dt)\n"
   ]
  },
  {
   "cell_type": "code",
   "execution_count": 5,
   "metadata": {
    "collapsed": false
   },
   "outputs": [
    {
     "data": {
      "text/plain": [
       "0.0"
      ]
     },
     "execution_count": 5,
     "metadata": {},
     "output_type": "execute_result"
    }
   ],
   "source": [
    "# record in the soma and in the axon end\n",
    "vec_soma = h.Vector()\n",
    "vec_soma.record(h.soma(0.5)._ref_v, sec=h.soma)\n",
    "st_current = h.Vector()\n",
    "st_current.record(st._ref_i)\n",
    "h.run()"
   ]
  },
  {
   "cell_type": "code",
   "execution_count": 6,
   "metadata": {
    "collapsed": false
   },
   "outputs": [
    {
     "data": {
      "image/png": "[encoded data removed]",
      "text/plain": [
       "<matplotlib.figure.Figure at 0x7fac95280510>"
      ]
     },
     "metadata": {},
     "output_type": "display_data"
    }
   ],
   "source": [
    "v_soma = np.array(vec_soma)\n",
    "stim = np.array(st_current)\n",
    "# plot the figure\n",
    "import matplotlib.pylab as plt\n",
    "%matplotlib inline\n",
    "plt.subplot(2,1,1)\n",
    "time = np.arange(len(v_soma))*h.dt\n",
    "plt.plot(time, v_soma, 'r')\n",
    "plt.ylabel('voltage (mV)')\n",
    "\n",
    "plt.subplot(2,1,2)\n",
    "deriv_soma = np.diff(v_soma)/h.dt\n",
    "plt.plot(time, stim, 'b')\n",
    "plt.ylabel('current (nA)')\n",
    "plt.xlabel('time (ms)')\n",
    "plt.title('phase plot')\n",
    "plt.tight_layout()"
   ]
  }
 ],
 "metadata": {
  "kernelspec": {
   "display_name": "Python 2",
   "language": "python",
   "name": "python2"
  },
  "language_info": {
   "codemirror_mode": {
    "name": "ipython",
    "version": 2
   },
   "file_extension": ".py",
   "mimetype": "text/x-python",
   "name": "python",
   "nbconvert_exporter": "python",
   "pygments_lexer": "ipython2",
   "version": "2.7.11"
  }
 },
 "nbformat": 4,
 "nbformat_minor": 0
}
