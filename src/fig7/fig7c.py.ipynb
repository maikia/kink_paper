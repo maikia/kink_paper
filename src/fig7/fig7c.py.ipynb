{
 "cells": [
  {
   "cell_type": "markdown",
   "metadata": {},
   "source": [
    "Fig7c, voltage at different segs of the axon during point in time"
   ]
  },
  {
   "cell_type": "code",
   "execution_count": 1,
   "metadata": {
    "collapsed": true
   },
   "outputs": [],
   "source": [
    "from neuron import h\n",
    "import numpy as np\n",
    "import os.path\n",
    "import sys\n",
    "sys.path.append('../../libs/')"
   ]
  },
  {
   "cell_type": "code",
   "execution_count": 2,
   "metadata": {
    "collapsed": false
   },
   "outputs": [
    {
     "data": {
      "text/plain": [
       "0.0"
      ]
     },
     "execution_count": 2,
     "metadata": {},
     "output_type": "execute_result"
    }
   ],
   "source": [
    "# load model\n",
    "# works only on linux\n",
    "model = '../../data/morphology/soma_axon.hoc'\n",
    "dllpath = '../../data/morphology/x86_64/.libs/libnrnmech.so'\n",
    "h.nrn_load_dll(dllpath)\n",
    "h.load_file(model)\n",
    "h.init_cell()"
   ]
  },
  {
   "cell_type": "code",
   "execution_count": 3,
   "metadata": {
    "collapsed": false
   },
   "outputs": [],
   "source": [
    "# parameters\n",
    "keep_soma_Na = True\n",
    "soma_size = 30 # 1, 30, 50 um\n",
    "stim_amp = 0.033\n",
    "# use different amplitude for stimulation depending on the soma size size:amplitude \n",
    "# (1:0.0037,30:0.033,50:0.4)\n",
    "datapts_time_at_mV=[-54, -58, -40, 30] \n",
    "\n",
    "# simulation\n",
    "h.tstart = 0.\n",
    "h.tstop = 20.\n",
    "h.dt = 0.001\n",
    "rm = 30000.\n",
    "st_dur1 = 2.\n",
    "st_dur2 = 3.\n",
    "v_init = -70\n",
    "\n",
    "# morphology \n",
    "h.soma.L = soma_size\n",
    "h.soma.diam = soma_size\n",
    "h.soma.nseg = 1\n",
    "h.soma.g_pas = 1./rm\n",
    "h.soma.cm = 0.75\n",
    "\n",
    "h.axon.L = 50.\n",
    "h.axon.diam =1.\n",
    "h.axon.nseg = 101\n",
    "h.axon.g_pas = 1./rm\n",
    "h.axon.cm = 0.75 * 0.75\n",
    "\n",
    "# general\n",
    "h.rm = rm\n",
    "h.v_init = v_init\n",
    "h.ra = 150 \n",
    "h.c_m = 0.75\n",
    "h.xn = 1 \n",
    "\n",
    "# potassium\n",
    "h.Ek = -80. # mV # Fig2: = 80; Fig4b:\n",
    "h.gk = 1600.\n",
    "h.gkm = 0.3\n",
    "h.soma.gbar_kv = 1600/5.\n",
    "h.axon.gbar_kv = 1600.\n",
    "\n",
    "# sodium\n",
    "h.Ena = 60.\n",
    "h.gna = 8000.\n",
    "h.gkm_soma = 0.3\n",
    "if keep_soma_Na:\n",
    "    h.soma.gbar_na = 0.1*8000\n",
    "else:\n",
    "    h.soma.gbar_na = 0.\n",
    "h.axon.gbar_na = 8000.\n",
    "            \n",
    "# calcium (set no calcium in the model)\n",
    "h.gca = 0.\n",
    "h.gkca = 0.\n",
    "h.gca_soma = 0.\n",
    "h.gkca_soma = 0."
   ]
  },
  {
   "cell_type": "code",
   "execution_count": 4,
   "metadata": {
    "collapsed": false
   },
   "outputs": [],
   "source": [
    "no_datapts_space = 102\n",
    "segs_exact = ['axon'] * h.axon.nseg\n",
    "segs_exact.append('soma')\n",
    "subsegs = np.linspace(0,1,h.axon.nseg+1)\n",
    "half_seg = (subsegs[-1] - subsegs[-2])/2.\n",
    "subsegs = subsegs + half_seg\n",
    "subsegs[-1] = 0.5 # for soma\n",
    "\n",
    "\n",
    "assert no_datapts_space == len(subsegs)"
   ]
  },
  {
   "cell_type": "code",
   "execution_count": 5,
   "metadata": {
    "collapsed": false
   },
   "outputs": [],
   "source": [
    "# create I-clamp stimulation\n",
    "st = h.IClamp(0.5, sec = h.soma)\n",
    "st.dur = 7 # ms\n",
    "st.delay = 1\n",
    "st.amp = stim_amp"
   ]
  },
  {
   "cell_type": "code",
   "execution_count": 6,
   "metadata": {
    "collapsed": false
   },
   "outputs": [
    {
     "data": {
      "text/plain": [
       "0.0"
      ]
     },
     "execution_count": 6,
     "metadata": {},
     "output_type": "execute_result"
    }
   ],
   "source": [
    "# record in the soma and in the axon\n",
    "all_vecs = [h.Vector() for i in range(no_datapts_space)]\n",
    "for idx,seg in enumerate(segs_exact):\n",
    "    if seg == 'soma':\n",
    "        all_vecs[idx].record(h.soma(subsegs[idx])._ref_v, sec=h.soma)\n",
    "    elif seg == 'axon':\n",
    "        all_vecs[idx].record(h.axon(subsegs[idx])._ref_v, sec=h.axon)\n",
    "\n",
    "all_vecs[:-1] = all_vecs[0:-1][::-1]\n",
    "\n",
    "soma_v = h.Vector()\n",
    "soma_v.record(h.soma(0.5)._ref_v, sec = h.soma)\n",
    "h.run()"
   ]
  },
  {
   "cell_type": "code",
   "execution_count": 7,
   "metadata": {
    "collapsed": false
   },
   "outputs": [
    {
     "name": "stderr",
     "output_type": "stream",
     "text": [
      "/home/maja/anaconda/lib/python2.7/site-packages/matplotlib/collections.py:590: FutureWarning: elementwise comparison failed; returning scalar instead, but in the future will perform elementwise comparison\n",
      "  if self._edgecolors == str('face'):\n"
     ]
    },
    {
     "data": {
      "image/png": "[encoded data removed]",
      "text/plain": [
       "<matplotlib.figure.Figure at 0x7f36ef211390>"
      ]
     },
     "metadata": {},
     "output_type": "display_data"
    }
   ],
   "source": [
    "soma_array = np.array(soma_v)\n",
    "\n",
    "# select time at which to check the voltage across the neuron\n",
    "time_idx = np.zeros(len(datapts_time_at_mV))\n",
    "for pt_idx, next_mv in enumerate(datapts_time_at_mV):\n",
    "    time_idx[pt_idx] = int(np.where(soma_array>next_mv)[0][0])\n",
    "time_idx=time_idx.astype(int)\n",
    "\n",
    "data_to_plot = np.zeros([no_datapts_space, len(time_idx)])\n",
    "from matplotlib import cm, colors\n",
    "point_colors = cm.hot(colors.Normalize()(time_idx))    \n",
    "\n",
    "color =['b', 'r']\n",
    "unik_segs=[segs_exact[i] for i in sorted(np.unique(segs_exact, return_index=True)[1])]\n",
    "\n",
    "import matplotlib.pylab as plt\n",
    "%matplotlib inline   \n",
    "\n",
    "spaceline = subsegs * h.axon.L\n",
    "spaceline[-1] = h.axon.L + subsegs[-1] * h.soma.L\n",
    "total_length = h.axon.L + h.soma.L\n",
    "\n",
    "plt.subplot(2,1,1)\n",
    "# corresponding phase plot with the scatter plot on top of it\n",
    "deriv_soma = np.diff(soma_array)/h.dt\n",
    "plt.plot(soma_array[:-1], deriv_soma, 'r', label = 'soma')\n",
    "plt.scatter(soma_array[time_idx], (np.diff(soma_array)/h.dt)[time_idx], c=point_colors, s=50, zorder=100)\n",
    "plt.title('Phase plot, soma')\n",
    "plt.ylabel('dV/dt (mV/ms)')\n",
    "plt.xlabel('voltage (mV)')\n",
    "\n",
    "# space and time plot\n",
    "# background for segments\n",
    "plt.subplot(2,1,2)\n",
    "# axon\n",
    "p = plt.axvspan(0, h.axon.L, facecolor=color[0], alpha = 0.1)\n",
    "plt.text(spaceline[0]+1, 0, 'axon', color=color[0], fontsize = 12)\n",
    "# soma\n",
    "p = plt.axvspan(h.axon.L, h.axon.L+h.soma.L, facecolor=color[1], alpha = 0.1)\n",
    "plt.text(spaceline[-1]+1, 0, 'soma', color=color[1], fontsize = 12)\n",
    "\n",
    "for space in range(no_datapts_space):   \n",
    "    v_cell = np.array(all_vecs[space])[time_idx]\n",
    "    data_to_plot[space,:] = v_cell\n",
    "    \n",
    "# shift plotting the first and the last datapts to the beginning and the end of the segment instead of its middle\n",
    "spaceline[0] = 0 \n",
    "spaceline[-1] = h.axon.L+h.soma.L\n",
    "\n",
    "for i in range(data_to_plot.shape[1]):\n",
    "    plt.plot(spaceline, data_to_plot[:, i], color=point_colors[i], lw=4)\n",
    "plt.title('space and time')\n",
    "plt.xlim([0,np.sum(total_length)])\n",
    "plt.xlabel('space (um)')\n",
    "plt.ylabel('voltage [mV]')\n",
    "\n",
    "plt.tight_layout()"
   ]
  }
 ],
 "metadata": {
  "kernelspec": {
   "display_name": "Python 2",
   "language": "python",
   "name": "python2"
  },
  "language_info": {
   "codemirror_mode": {
    "name": "ipython",
    "version": 2
   },
   "file_extension": ".py",
   "mimetype": "text/x-python",
   "name": "python",
   "nbconvert_exporter": "python",
   "pygments_lexer": "ipython2",
   "version": "2.7.11"
  }
 },
 "nbformat": 4,
 "nbformat_minor": 0
}
