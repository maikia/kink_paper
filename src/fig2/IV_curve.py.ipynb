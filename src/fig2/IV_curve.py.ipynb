{
 "cells": [
  {
   "cell_type": "raw",
   "metadata": {},
   "source": [
    "''' this code generates one point of the I-V curve '''"
   ]
  },
  {
   "cell_type": "code",
   "execution_count": 2,
   "metadata": {
    "collapsed": false
   },
   "outputs": [],
   "source": [
    "from neuron import h\n",
    "import numpy as np\n",
    "import os.path"
   ]
  },
  {
   "cell_type": "code",
   "execution_count": 3,
   "metadata": {
    "collapsed": false
   },
   "outputs": [],
   "source": [
    "##### sec1: generate model #####\n",
    "\n",
    "model = \"../morphology/soma_axon.hoc\"\n",
    "model_dir = os.path.abspath(os.path.join(os.pardir, model))\n",
    "change_soma_size = 0 # original soma size is used in the fig 2b, it is changed to (??): in fig (???)\n",
    "change_axon_Ra = 0 # change axon Ra to generate fig (??) to (??)"
   ]
  },
  {
   "cell_type": "code",
   "execution_count": 4,
   "metadata": {
    "collapsed": false
   },
   "outputs": [
    {
     "data": {
      "text/plain": [
       "0.0"
      ]
     },
     "execution_count": 4,
     "metadata": {},
     "output_type": "execute_result"
    }
   ],
   "source": [
    "# load model\n",
    "# works only on linux\n",
    "dllpath = os.path.abspath(os.path.join(os.pardir, './morphology/x86_64/.libs/libnrnmech.so'))\n",
    "h.nrn_load_dll(dllpath)\n",
    "h.load_file(model)\n",
    "h.init_cell()"
   ]
  },
  {
   "cell_type": "code",
   "execution_count": 5,
   "metadata": {
    "collapsed": false
   },
   "outputs": [],
   "source": [
    "# morpho params\n",
    "\n",
    "h.tstart = 0.\n",
    "h.tstop = 20.\n",
    "h.dt = 0.001\n",
    "rm = 30000.\n",
    "\n",
    "# morphology \n",
    "h.soma.L = 30.\n",
    "h.soma.diam = 20.\n",
    "h.soma.nseg = 6\n",
    "h.soma.g_pas = 1./rm\n",
    "h.soma.cm = 0.75\n",
    "\n",
    "h.axon.L = 50.\n",
    "h.axon.diam =1.\n",
    "h.axon.nseg = 10\n",
    "h.axon.g_pas = 1./rm\n",
    "h.axon.cm = 0.75 * 0.75\n",
    "\n",
    "#general\n",
    "h.rm = rm\n",
    "h.v_init = -70\n",
    "h.ra = 150 \n",
    "h.c_m = 0.75\n",
    "h.xn = 1"
   ]
  },
  {
   "cell_type": "code",
   "execution_count": 6,
   "metadata": {
    "collapsed": false
   },
   "outputs": [],
   "source": [
    "# set params\n",
    "# potassium\n",
    "h.Ek = -80. # mV # Fig2: = 80; Fig4b:\n",
    "h.gk = 1600.\n",
    "h.gkm = 0.3\n",
    "h.soma.gbar_kv = 1600/5.\n",
    "h.axon.gbar_kv = 1600.\n",
    "\n",
    "# sodium\n",
    "h.Ena = 60.\n",
    "h.gna = 8000.\n",
    "h.gkm_soma = 0.3 \n",
    "h.soma.gbar_na = 0.1*8000\n",
    "h.axon.gbar_na = 8000.\n",
    "            \n",
    "# calcium (set no calcium in the model)\n",
    "h.gca = 0.\n",
    "h.gkca = 0.\n",
    "h.gca_soma = 0.\n",
    "h.gkca_soma = 0."
   ]
  },
  {
   "cell_type": "code",
   "execution_count": 7,
   "metadata": {
    "collapsed": false
   },
   "outputs": [],
   "source": [
    "# changes soma size to generate fig(??)\n",
    "if change_soma_size:\n",
    "    soma_size=change_soma_size\n",
    "    h.soma.L=soma_size\n",
    "    h.soma.diam = soma_size"
   ]
  },
  {
   "cell_type": "code",
   "execution_count": 8,
   "metadata": {
    "collapsed": true
   },
   "outputs": [],
   "source": [
    "# change Ra to generate figure (??)\n",
    "if change_axon_Ra:\n",
    "    h.axon.Ra = change_axon_Ra\n",
    "    h.soma.Ra = change_axon_Ra"
   ]
  },
  {
   "cell_type": "code",
   "execution_count": 16,
   "metadata": {
    "collapsed": false
   },
   "outputs": [],
   "source": [
    "# use p/n protocol (as defined in (??))\n",
    "\n",
    "# create stimulation\n",
    "st = h.SEClamp(0.5, sec = h.soma)\n",
    "st.dur1 = 2. # ms\n",
    "st.dur2 = 3.\n",
    "st.dur3 = 15.\n",
    "\n",
    "st.amp1= -70\n",
    "st.amp2= -70 \n",
    "st.amp3= -70 + 5. # v membrane + pn stimulation\n",
    "\n",
    "h.tstop = 20 # ms\n",
    "st.rs = 0.1\n",
    "vec_i = h.Vector()\n",
    "vec_i.record(st._ref_i) #nA;\n",
    "h.run()\n",
    "\n",
    "i_soma_pn = np.array(vec_i)"
   ]
  },
  {
   "cell_type": "code",
   "execution_count": 20,
   "metadata": {
    "collapsed": false
   },
   "outputs": [
    {
     "name": "stdout",
     "output_type": "stream",
     "text": [
      "i_soma [ 0.         -0.00148613 -0.00240417 ..., -0.03389535 -0.03389528\n",
      " -0.03389521]\n",
      "vm_soma [-70. -70. -70. ..., -59. -59. -59.]\n",
      "vec_axonm <hoc.HocObject object at 0x7ff17ab417c8>\n",
      "vec_vaxon [-70.         -70.00059664 -70.00119257 ..., -57.85912094 -57.859115\n",
      " -57.85910909]\n",
      "peak -10.5498955037\n",
      "peak place 829\n"
     ]
    },
    {
     "name": "stderr",
     "output_type": "stream",
     "text": [
      "/home/maja/anaconda/lib/python2.7/site-packages/ipykernel/__main__.py:66: DeprecationWarning: using a non-integer number instead of an integer will result in an error in the future\n",
      "/home/maja/anaconda/lib/python2.7/site-packages/ipykernel/__main__.py:70: DeprecationWarning: using a non-integer number instead of an integer will result in an error in the future\n"
     ]
    },
    {
     "ename": "NameError",
     "evalue": "name 'clear_cell' is not defined",
     "output_type": "error",
     "traceback": [
      "\u001b[1;31m---------------------------------------------------------------------------\u001b[0m",
      "\u001b[1;31mNameError\u001b[0m                                 Traceback (most recent call last)",
      "\u001b[1;32m<ipython-input-20-9f07b8bccaf8>\u001b[0m in \u001b[0;36m<module>\u001b[1;34m()\u001b[0m\n\u001b[0;32m     77\u001b[0m \u001b[1;33m\u001b[0m\u001b[0m\n\u001b[0;32m     78\u001b[0m \u001b[1;31m#peak_places.append(peak_place)\u001b[0m\u001b[1;33m\u001b[0m\u001b[1;33m\u001b[0m\u001b[0m\n\u001b[1;32m---> 79\u001b[1;33m \u001b[0mclear_cell\u001b[0m\u001b[1;33m(\u001b[0m\u001b[1;33m)\u001b[0m\u001b[1;33m\u001b[0m\u001b[0m\n\u001b[0m\u001b[0;32m     80\u001b[0m \u001b[1;33m\u001b[0m\u001b[0m\n\u001b[0;32m     81\u001b[0m \u001b[1;31m#current = np.array(list_i)\u001b[0m\u001b[1;33m\u001b[0m\u001b[1;33m\u001b[0m\u001b[0m\n",
      "\u001b[1;31mNameError\u001b[0m: name 'clear_cell' is not defined"
     ]
    },
    {
     "data": {
      "image/png": "[encoded data removed]",
      "text/plain": [
       "<matplotlib.figure.Figure at 0x7ff1aea30cd0>"
      ]
     },
     "metadata": {},
     "output_type": "display_data"
    }
   ],
   "source": [
    "# calculate I-V\n",
    "\n",
    "volt = -59 # voltage clamp\n",
    "# create stimulation\n",
    "v_value = volt # v_value = measured volt; we could also loope trough volts\n",
    "\n",
    "##### here call the function for calculating I-V point for given V and given model\n",
    "st = h.SEClamp(0.5, sec = h.soma)\n",
    "st.dur1 = 2. # ms\n",
    "st.dur2 = 3.\n",
    "st.dur3 = 15.\n",
    "\n",
    "st.amp1= -70\n",
    "st.amp2= -70 \n",
    "p_v_value = i_soma_pn*((v_value-(-70))/5.) \n",
    "st.amp3= v_value\n",
    "\n",
    "st.rs = 0.1 # for ideal clamp set to 0.001\n",
    "\n",
    "# record params\n",
    "vec_i = h.Vector()\n",
    "vec_i.record(st._ref_i) #nA;\n",
    "        \n",
    "#vec_vm = h.Vector()  \n",
    "#vec_vm.record(st._ref_vc) \n",
    "\n",
    "# in addition record m in the end of the axon (Sodium opening variable)        \n",
    "#vec_axonm = h.Vector()\n",
    "#vec_axonm0 = h.Vector()\n",
    "#vec_vaxon = h.Vector()\n",
    "\n",
    "vect_axons = []\n",
    "vect_ms = []\n",
    "vect_m = []\n",
    "\n",
    "hallermann = False\n",
    "if hallermann:\n",
    "    vec_vaxon.record(h.axon[0](0.99)._ref_v)\n",
    "    #import pdb; pdb.set_trace()\n",
    "    #vec_axonm.record(h.axon[0](0.99)._ref_ina) # <- m is not in hallermann, what is?\n",
    "    vec_axonm.record(h.axon[0](0.99)._ref_o_nax)\n",
    "    vec_axonm0.record(h.axon[0](0.99)._ref_o_na)\n",
    "else:\n",
    "    try:\n",
    "        vec_axonm.record(h.axon(0.99)._ref_m_na)\n",
    "        vec_vaxon.record(h.axon(0.99)._ref_v)\n",
    "    except:\n",
    "        vec_axonm.record(h.iseg(0.99)._ref_m_na)\n",
    "        vec_vaxon.record(h.iseg(0.99)._ref_v)\n",
    "        \n",
    "h.run()\n",
    "\n",
    "i_soma = np.array(vec_i) - p_v_value\n",
    "#vm_soma = np.array(vec_vm) \n",
    "#list_i.append(np.array(i_soma))\n",
    "#list_vm.append(np.array(vm_soma))\n",
    "#list_axonm.append(np.array(vec_axonm))\n",
    "#list_vaxon.append(np.array(vec_vaxon))\n",
    "\n",
    "# calculate minimum peak from find_peak[0] to find_peak[1]\n",
    "\n",
    "peak = min(i_soma[(st.dur1+st.dur2+0.2)/h.dt:(st.dur1+st.dur2+3.0)/h.dt])\n",
    "print 'peak', peak\n",
    "#peaks.append(peak)\n",
    "\n",
    "peak_place = np.argmin(i_soma[(st.dur1+st.dur2+0.2)/h.dt:(st.dur1+st.dur2+3.0)/h.dt])\n",
    "print 'peak place', peak_place\n",
    "\n",
    "import matplotlib.pylab as plt\n",
    "%matplotlib inline\n",
    "plt.plot(i_soma)\n",
    "plt.plot((st.dur1+st.dur2+0.2)/h.dt+peak_place, peak, 'ro')\n",
    "\n",
    "#peak_places.append(peak_place)\n",
    "clear_cell() \n",
    "\n",
    "#current = np.array(list_i)\n",
    "#voltage = np.array(list_vm)\n",
    "#axon_m = np.array(list_axonm)\n",
    "#axon_v = np.array(list_vaxon)\n",
    "\n",
    "time_dt = h.dt  \n",
    "#peaks = np.array(peaks)\n",
    "\n",
    "#return peaks, volts, current, voltage, time_dt, axon_m, axon_v, peak_places"
   ]
  },
  {
   "cell_type": "code",
   "execution_count": null,
   "metadata": {
    "collapsed": true
   },
   "outputs": [],
   "source": [
    "\n",
    "\n",
    "i_soma = np.array(vec_i) - p_v_value\n",
    "vm_soma = np.array(vec_vm) \n",
    "list_i.append(np.array(i_soma))\n",
    "list_vm.append(np.array(vm_soma))\n",
    "list_axonm.append(np.array(vec_axonm))\n",
    "list_vaxon.append(np.array(vec_vaxon))\n",
    "#import pdb; pdb.set_trace()\n",
    "# calculate minimum peak from find_peak[0] to find_peak[1]\n",
    "\n",
    "peak = min(i_soma[(st.dur1+st.dur2+params_analysis.find_peak[0])/h.dt:(st.dur1+st.dur2+params_analysis.find_peak[1])/h.dt])\n",
    "peaks.append(peak)\n",
    "\n",
    "peak_place = np.argmin(i_soma[(st.dur1+st.dur2+params_analysis.find_peak[0])/h.dt:(st.dur1+st.dur2+params_analysis.find_peak[1])/h.dt])\n",
    "peak_places.append(peak_place)\n",
    "clear_cell() \n",
    "\n",
    "current = np.array(list_i)\n",
    "voltage = np.array(list_vm)\n",
    "axon_m = np.array(list_axonm)\n",
    "axon_v = np.array(list_vaxon)\n",
    "\n",
    "time_dt = h.dt  \n",
    "peaks = np.array(peaks)"
   ]
  },
  {
   "cell_type": "code",
   "execution_count": null,
   "metadata": {
    "collapsed": true
   },
   "outputs": [],
   "source": [
    "# plot the figure\n",
    "import matplotlib.pylab as plt\n",
    "%matplotlib inline\n",
    "plt.plot(i_soma)"
   ]
  }
 ],
 "metadata": {
  "kernelspec": {
   "display_name": "Python 2",
   "language": "python",
   "name": "python2"
  },
  "language_info": {
   "codemirror_mode": {
    "name": "ipython",
    "version": 2
   },
   "file_extension": ".py",
   "mimetype": "text/x-python",
   "name": "python",
   "nbconvert_exporter": "python",
   "pygments_lexer": "ipython2",
   "version": "2.7.11"
  }
 },
 "nbformat": 4,
 "nbformat_minor": 0
}
