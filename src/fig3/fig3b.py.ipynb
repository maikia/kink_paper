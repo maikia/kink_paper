{
 "cells": [
  {
   "cell_type": "markdown",
   "metadata": {},
   "source": [
    "Fig3b, left, I-V curve, simple model, possibility to modify Ra"
   ]
  },
  {
   "cell_type": "code",
   "execution_count": 1,
   "metadata": {
    "collapsed": true
   },
   "outputs": [],
   "source": [
    "from neuron import h\n",
    "import numpy as np\n",
    "import os.path\n",
    "import sys\n",
    "sys.path.append('../../libs/')"
   ]
  },
  {
   "cell_type": "code",
   "execution_count": 2,
   "metadata": {
    "collapsed": false
   },
   "outputs": [
    {
     "data": {
      "text/plain": [
       "0.0"
      ]
     },
     "execution_count": 2,
     "metadata": {},
     "output_type": "execute_result"
    }
   ],
   "source": [
    "# load model\n",
    "# works only on linux\n",
    "model = '../../data/morphology/soma_axon.hoc'\n",
    "dllpath = '../../data/morphology/x86_64/.libs/libnrnmech.so'\n",
    "h.nrn_load_dll(dllpath)\n",
    "h.load_file(model)\n",
    "h.init_cell()"
   ]
  },
  {
   "cell_type": "code",
   "execution_count": 3,
   "metadata": {
    "collapsed": false
   },
   "outputs": [],
   "source": [
    "# parameters\n",
    "# I-V related\n",
    "volt_range = [-65, 20]\n",
    "no_pts = 100\n",
    "change_to_Ra = 1 # 30, 150, 250\n",
    "\n",
    "# simulation\n",
    "h.tstart = 0.\n",
    "h.tstop = 20.\n",
    "h.dt = 0.001\n",
    "rm = 30000.\n",
    "st_dur1 = 2.\n",
    "st_dur2 = 3.\n",
    "v_init = -70\n",
    "\n",
    "# morphology \n",
    "h.soma.L = 30.\n",
    "h.soma.diam = 20.\n",
    "h.soma.nseg = 6\n",
    "h.soma.g_pas = 1./rm\n",
    "h.soma.cm = 0.75\n",
    "\n",
    "h.axon.L = 50.\n",
    "h.axon.diam =1.\n",
    "h.axon.nseg = 10\n",
    "h.axon.g_pas = 1./rm\n",
    "h.axon.cm = 0.75 * 0.75\n",
    "\n",
    "# general\n",
    "h.rm = rm\n",
    "h.v_init = v_init\n",
    "h.ra = 150 \n",
    "h.c_m = 0.75\n",
    "h.xn = 1 \n",
    "\n",
    "# potassium\n",
    "h.Ek = -80. # mV # Fig2: = 80; Fig4b:\n",
    "h.gk = 1600.\n",
    "h.gkm = 0.3\n",
    "h.soma.gbar_kv = 1600/5.\n",
    "h.axon.gbar_kv = 1600.\n",
    "\n",
    "# sodium\n",
    "h.Ena = 60.\n",
    "h.gna = 8000.\n",
    "h.gkm_soma = 0.3 \n",
    "h.soma.gbar_na = 0. # note: for sake of clarity in the fig 3b there is no sodium in the soma \n",
    "h.axon.gbar_na = 8000.\n",
    "            \n",
    "# calcium (set no calcium in the model)\n",
    "h.gca = 0.\n",
    "h.gkca = 0.\n",
    "h.gca_soma = 0.\n",
    "h.gkca_soma = 0.\n",
    "\n",
    "# change Ra\n",
    "h.axon.Ra = change_to_Ra\n",
    "h.soma.Ra = change_to_Ra"
   ]
  },
  {
   "cell_type": "code",
   "execution_count": 4,
   "metadata": {
    "collapsed": false
   },
   "outputs": [],
   "source": [
    "# calculate current using p/n protocol\n",
    "\n",
    "from apkink import protocols as pp\n",
    "i_soma_pn = pp.pn_protocol(v_memb=v_init)"
   ]
  },
  {
   "cell_type": "code",
   "execution_count": 5,
   "metadata": {
    "collapsed": false
   },
   "outputs": [
    {
     "name": "stderr",
     "output_type": "stream",
     "text": [
      "/home/maja/anaconda/lib/python2.7/site-packages/ipykernel/__main__.py:14: DeprecationWarning: using a non-integer number instead of an integer will result in an error in the future\n"
     ]
    }
   ],
   "source": [
    "# calculate I-V for different holding volt\n",
    "\n",
    "volt_space = np.linspace(volt_range[0], volt_range[1], no_pts)\n",
    "i_space = np.zeros([no_pts])\n",
    "m_axon_space = np.zeros([no_pts])\n",
    "\n",
    "#volt_space = [-10.]\n",
    "for idx,volt in enumerate(volt_space): \n",
    "    # create stimulation\n",
    "    i_val, m_axon_val = pp.i_v_protocol(volt,v_memb=v_init,st_dur1=st_dur1,st_dur2=st_dur2)\n",
    "    \n",
    "    p_v_value = i_soma_pn*((volt-(v_init))/5.) \n",
    "    i_soma = i_val - p_v_value\n",
    "    peak = min(i_soma[(st_dur1+st_dur2+0.2)/h.dt:(st_dur1+st_dur2+3.0)/h.dt])\n",
    "    \n",
    "    i_space[idx] = peak\n",
    "    m_axon_space[idx] = np.max(m_axon_val)"
   ]
  },
  {
   "cell_type": "code",
   "execution_count": 6,
   "metadata": {
    "collapsed": false,
    "scrolled": true
   },
   "outputs": [
    {
     "data": {
      "image/png": "[encoded data removed]",
      "text/plain": [
       "<matplotlib.figure.Figure at 0x7feccc38ef90>"
      ]
     },
     "metadata": {},
     "output_type": "display_data"
    }
   ],
   "source": [
    "# plot the figure\n",
    "import matplotlib.pylab as plt\n",
    "%matplotlib inline\n",
    "plt.subplot(1,2,1)\n",
    "\n",
    "plt.plot(volt_space, i_space)\n",
    "plt.ylabel('current (nA)')\n",
    "plt.xlabel('voltage (mV)')\n",
    "plt.subplot(1,2,2)\n",
    "plt.plot(volt_space, m_axon_space)\n",
    "plt.ylim([-.1,1.1])\n",
    "plt.ylabel('fraction of open Na+ channels')\n",
    "plt.xlabel('voltage (mV)')\n",
    "plt.tight_layout()"
   ]
  }
 ],
 "metadata": {
  "kernelspec": {
   "display_name": "Python 2",
   "language": "python",
   "name": "python2"
  },
  "language_info": {
   "codemirror_mode": {
    "name": "ipython",
    "version": 2
   },
   "file_extension": ".py",
   "mimetype": "text/x-python",
   "name": "python",
   "nbconvert_exporter": "python",
   "pygments_lexer": "ipython2",
   "version": "2.7.11"
  }
 },
 "nbformat": 4,
 "nbformat_minor": 0
}
