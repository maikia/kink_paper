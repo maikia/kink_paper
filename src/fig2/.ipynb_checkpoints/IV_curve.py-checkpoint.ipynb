{
 "cells": [
  {
   "cell_type": "raw",
   "metadata": {},
   "source": [
    "''' this code generates one point of the I-V curve '''"
   ]
  },
  {
   "cell_type": "code",
   "execution_count": 44,
   "metadata": {
    "collapsed": false
   },
   "outputs": [],
   "source": [
    "from neuron import h\n",
    "import os.path"
   ]
  },
  {
   "cell_type": "code",
   "execution_count": 51,
   "metadata": {
    "collapsed": false
   },
   "outputs": [
    {
     "name": "stdout",
     "output_type": "stream",
     "text": [
      "/home/maja/maja/phdProject/Brette Lab/Model DB/kink_paper/morphology/soma_axon.hoc\n"
     ]
    }
   ],
   "source": [
    "model = \"../morphology/soma_axon.hoc\"\n",
    "model_dir = os.path.abspath(os.path.join(os.pardir, model))\n",
    "print model_dir\n",
    "change_soma_size = 0 # original soma size is used in the fig 2b, it is changed to (??): in fig (???)\n",
    "change_axon_Ra = 0 # change axon Ra to generate fig (??) to (??)"
   ]
  },
  {
   "cell_type": "code",
   "execution_count": 50,
   "metadata": {
    "collapsed": false
   },
   "outputs": [
    {
     "data": {
      "text/plain": [
       "'..'"
      ]
     },
     "execution_count": 50,
     "metadata": {},
     "output_type": "execute_result"
    }
   ],
   "source": [
    "os.path."
   ]
  },
  {
   "cell_type": "code",
   "execution_count": 48,
   "metadata": {
    "collapsed": false
   },
   "outputs": [
    {
     "name": "stdout",
     "output_type": "stream",
     "text": [
      "/x86_64/.libs/libnrnmech.so\n"
     ]
    },
    {
     "ename": "AttributeError",
     "evalue": "'hoc.HocObject' object has no attribute 'init_cell'",
     "output_type": "error",
     "traceback": [
      "\u001b[1;31m---------------------------------------------------------------------------\u001b[0m",
      "\u001b[1;31mAttributeError\u001b[0m                            Traceback (most recent call last)",
      "\u001b[1;32m<ipython-input-48-69a5ef96571c>\u001b[0m in \u001b[0;36m<module>\u001b[1;34m()\u001b[0m\n\u001b[0;32m      5\u001b[0m \u001b[0mh\u001b[0m\u001b[1;33m.\u001b[0m\u001b[0mnrn_load_dll\u001b[0m\u001b[1;33m(\u001b[0m\u001b[0mdllpath\u001b[0m\u001b[1;33m)\u001b[0m\u001b[1;33m\u001b[0m\u001b[0m\n\u001b[0;32m      6\u001b[0m \u001b[0mh\u001b[0m\u001b[1;33m.\u001b[0m\u001b[0mload_file\u001b[0m\u001b[1;33m(\u001b[0m\u001b[0mmodel\u001b[0m\u001b[1;33m)\u001b[0m\u001b[1;33m\u001b[0m\u001b[0m\n\u001b[1;32m----> 7\u001b[1;33m \u001b[0mh\u001b[0m\u001b[1;33m.\u001b[0m\u001b[0minit_cell\u001b[0m\u001b[1;33m(\u001b[0m\u001b[1;33m)\u001b[0m\u001b[1;33m\u001b[0m\u001b[0m\n\u001b[0m",
      "\u001b[1;31mAttributeError\u001b[0m: 'hoc.HocObject' object has no attribute 'init_cell'"
     ]
    }
   ],
   "source": [
    "# load model\n",
    "# works only on linux\n",
    "dllpath = os.path.abspath(os.path.join(os.pardir, '/x86_64/.libs/libnrnmech.so'))\n",
    "print dllpath\n",
    "h.nrn_load_dll(dllpath)\n",
    "h.load_file(model)\n",
    "h.init_cell()"
   ]
  },
  {
   "cell_type": "code",
   "execution_count": 47,
   "metadata": {
    "collapsed": false
   },
   "outputs": [
    {
     "ename": "LookupError",
     "evalue": "'Ek' is not a defined hoc variable name.",
     "output_type": "error",
     "traceback": [
      "\u001b[1;31m---------------------------------------------------------------------------\u001b[0m",
      "\u001b[1;31mLookupError\u001b[0m                               Traceback (most recent call last)",
      "\u001b[1;32m<ipython-input-47-9d6440869f75>\u001b[0m in \u001b[0;36m<module>\u001b[1;34m()\u001b[0m\n\u001b[0;32m      1\u001b[0m \u001b[1;31m# set params\u001b[0m\u001b[1;33m\u001b[0m\u001b[1;33m\u001b[0m\u001b[0m\n\u001b[0;32m      2\u001b[0m \u001b[1;31m# potassium\u001b[0m\u001b[1;33m\u001b[0m\u001b[1;33m\u001b[0m\u001b[0m\n\u001b[1;32m----> 3\u001b[1;33m \u001b[0mh\u001b[0m\u001b[1;33m.\u001b[0m\u001b[0mEk\u001b[0m \u001b[1;33m=\u001b[0m \u001b[1;33m-\u001b[0m\u001b[1;36m80\u001b[0m \u001b[1;31m# mV\u001b[0m\u001b[1;33m\u001b[0m\u001b[0m\n\u001b[0m\u001b[0;32m      4\u001b[0m \u001b[0mh\u001b[0m\u001b[1;33m.\u001b[0m\u001b[0mgk\u001b[0m \u001b[1;33m=\u001b[0m \u001b[1;36m1600\u001b[0m\u001b[1;33m\u001b[0m\u001b[0m\n\u001b[0;32m      5\u001b[0m \u001b[0mh\u001b[0m\u001b[1;33m.\u001b[0m\u001b[0mgkm\u001b[0m \u001b[1;33m=\u001b[0m \u001b[1;36m0.3\u001b[0m\u001b[1;33m\u001b[0m\u001b[0m\n",
      "\u001b[1;31mLookupError\u001b[0m: 'Ek' is not a defined hoc variable name."
     ]
    }
   ],
   "source": [
    "# set params\n",
    "# potassium\n",
    "h.Ek = -80 # mV\n",
    "h.gk = 1600\n",
    "h.gkm = 0.3\n",
    "h.soma.gbar_kv = 1600/5.\n",
    "h.axon.gbar_kv = 1600\n",
    "\n",
    "# sodium\n",
    "h.Ena = 60\n",
    "h.gna = 8000\n",
    "h.gkm_soma = 0.3 \n",
    "h.soma.gbar_na = 0.1*8000\n",
    "h.axon.gbar_na = 8000\n",
    "            \n",
    "# calcium (set no calcium in the model)\n",
    "h.gca = 0\n",
    "h.gkca = 0\n",
    "h.gca_soma = 0\n",
    "h.gkca_soma = 0"
   ]
  },
  {
   "cell_type": "code",
   "execution_count": 40,
   "metadata": {
    "collapsed": false
   },
   "outputs": [
    {
     "ename": "AttributeError",
     "evalue": "'module' object has no attribute 'soma'",
     "output_type": "error",
     "traceback": [
      "\u001b[1;31m---------------------------------------------------------------------------\u001b[0m",
      "\u001b[1;31mAttributeError\u001b[0m                            Traceback (most recent call last)",
      "\u001b[1;32m<ipython-input-40-858cfaca043f>\u001b[0m in \u001b[0;36m<module>\u001b[1;34m()\u001b[0m\n\u001b[0;32m      2\u001b[0m \u001b[1;32mif\u001b[0m \u001b[0mchange_soma_size\u001b[0m\u001b[1;33m:\u001b[0m\u001b[1;33m\u001b[0m\u001b[0m\n\u001b[0;32m      3\u001b[0m     \u001b[0msoma_size\u001b[0m\u001b[1;33m=\u001b[0m\u001b[0mchange_soma_size\u001b[0m\u001b[1;33m\u001b[0m\u001b[0m\n\u001b[1;32m----> 4\u001b[1;33m     \u001b[0mh\u001b[0m\u001b[1;33m.\u001b[0m\u001b[0msoma\u001b[0m\u001b[1;33m.\u001b[0m\u001b[0mL\u001b[0m\u001b[1;33m=\u001b[0m\u001b[0msoma_size\u001b[0m\u001b[1;33m\u001b[0m\u001b[0m\n\u001b[0m\u001b[0;32m      5\u001b[0m     \u001b[0mh\u001b[0m\u001b[1;33m.\u001b[0m\u001b[0msoma\u001b[0m\u001b[1;33m.\u001b[0m\u001b[0mdiam\u001b[0m \u001b[1;33m=\u001b[0m \u001b[0msoma_size\u001b[0m\u001b[1;33m\u001b[0m\u001b[0m\n",
      "\u001b[1;31mAttributeError\u001b[0m: 'module' object has no attribute 'soma'"
     ]
    }
   ],
   "source": [
    "# changes soma size to generate fig(??)\n",
    "if change_soma_size:\n",
    "    soma_size=change_soma_size\n",
    "    h.soma.L=soma_size\n",
    "    h.soma.diam = soma_size"
   ]
  },
  {
   "cell_type": "code",
   "execution_count": null,
   "metadata": {
    "collapsed": true
   },
   "outputs": [],
   "source": [
    "# change Ra to generate figure (??)\n",
    "if change_axon_Ra:\n",
    "    h.axon.Ra = change_axon_Ra\n",
    "    h.soma.Ra = change_axon_Ra"
   ]
  },
  {
   "cell_type": "code",
   "execution_count": 41,
   "metadata": {
    "collapsed": false
   },
   "outputs": [
    {
     "ename": "AttributeError",
     "evalue": "'module' object has no attribute 'SEClamp'",
     "output_type": "error",
     "traceback": [
      "\u001b[1;31m---------------------------------------------------------------------------\u001b[0m",
      "\u001b[1;31mAttributeError\u001b[0m                            Traceback (most recent call last)",
      "\u001b[1;32m<ipython-input-41-32126135355a>\u001b[0m in \u001b[0;36m<module>\u001b[1;34m()\u001b[0m\n\u001b[0;32m      2\u001b[0m \u001b[1;33m\u001b[0m\u001b[0m\n\u001b[0;32m      3\u001b[0m \u001b[1;31m# create stimulation\u001b[0m\u001b[1;33m\u001b[0m\u001b[1;33m\u001b[0m\u001b[0m\n\u001b[1;32m----> 4\u001b[1;33m \u001b[0mst\u001b[0m \u001b[1;33m=\u001b[0m \u001b[0mh\u001b[0m\u001b[1;33m.\u001b[0m\u001b[0mSEClamp\u001b[0m\u001b[1;33m(\u001b[0m\u001b[1;36m0.5\u001b[0m\u001b[1;33m,\u001b[0m \u001b[0msec\u001b[0m \u001b[1;33m=\u001b[0m \u001b[0mh\u001b[0m\u001b[1;33m.\u001b[0m\u001b[0msoma\u001b[0m\u001b[1;33m)\u001b[0m\u001b[1;33m\u001b[0m\u001b[0m\n\u001b[0m\u001b[0;32m      5\u001b[0m \u001b[0mst\u001b[0m\u001b[1;33m.\u001b[0m\u001b[0mdur1\u001b[0m \u001b[1;33m=\u001b[0m \u001b[1;36m2.\u001b[0m \u001b[1;31m# ms\u001b[0m\u001b[1;33m\u001b[0m\u001b[0m\n\u001b[0;32m      6\u001b[0m \u001b[0mst\u001b[0m\u001b[1;33m.\u001b[0m\u001b[0mdur2\u001b[0m \u001b[1;33m=\u001b[0m \u001b[1;36m3.\u001b[0m\u001b[1;33m\u001b[0m\u001b[0m\n",
      "\u001b[1;31mAttributeError\u001b[0m: 'module' object has no attribute 'SEClamp'"
     ]
    }
   ],
   "source": [
    "# use p/n protocol (as defined in (??))\n",
    "\n",
    "# create stimulation\n",
    "st = h.SEClamp(0.5, sec = h.soma)\n",
    "st.dur1 = 2. # ms\n",
    "st.dur2 = 3.\n",
    "st.dur3 = 15.\n",
    "\n",
    "st.amp1= -70\n",
    "st.amp2= -70 \n",
    "st.amp3= -70 + 5. # v membrane + pn stimulation\n",
    "\n",
    "h.tstop = 20 # ms\n",
    "st.rs = 0.1\n",
    "vec_i = h.Vector()\n",
    "vec_i.record(st._ref_i) #nA;\n",
    "h.run()\n",
    "\n",
    "i_soma = np.array(vec_i)"
   ]
  },
  {
   "cell_type": "code",
   "execution_count": null,
   "metadata": {
    "collapsed": true
   },
   "outputs": [],
   "source": [
    "# calculate I-V\n",
    "    ''' calculates IV curve for a given cell\n",
    "    \n",
    "    cell: model of the cell to be used\n",
    "    volt: volt range \n",
    "    ideal_clamp: the smaller number the better (e.g. 0.001, but then the soma itself might have theoretically infinit surface\n",
    "    prepulse: if prepulse should be done (as in the Milescu2010)\n",
    "    v_memb: initial membrane potenital\n",
    "    p/n value will be removed\n",
    "    \n",
    "    current: array of calculated current\n",
    "    voltage: array of calculated v\n",
    "    time_dt: time step\n",
    "    ''' \n",
    "volt = 60 # mV np.linspace(params_analysis.volt[0],params_analysis.volt[1]+1, no_datapts)[::-1]\n",
    "# create stimulation\n",
    "st = h.SEClamp(0.5, sec = h.soma)\n",
    "st.dur1 = 2. # ms\n",
    "st.dur2 = 3.\n",
    "st.dur3 = 15.\n",
    "\n",
    "st.amp1= -70\n",
    "st.amp2= -70 \n",
    "p_v_value = i_soma*((v_value-(-70))/5.)\n",
    "st.amp3= p_v_value\n",
    "\n",
    "# set params\n",
    "# volt for which we are calculating I\n",
    "\n",
    "#peaks = []\n",
    "#    peak_places = []\n",
    "#    list_i = []\n",
    "#    list_vm = []\n",
    "#    list_axonm = []\n",
    "#    list_vaxon = []\n",
    "    \n",
    "# calculate the current for different holding potentials\n",
    "#for idx,v_value in enumerate(volts):\n",
    "    #print str(idx+1) + '/' + str(len(volts))\n",
    "    #if hallermann:\n",
    "    #    h.dt = 0.001\n",
    "    #    h.v_init = params_analysis.v_memb\n",
    "    #st.dur1, st.dur2, st.dur3 = params_analysis.st_dur \n",
    "               \n",
    "        st.amp1=params_analysis.v_memb\n",
    "        # set the prepulse or not, and\n",
    "        # calculate the p_n value to subtract from the current\n",
    "        #if params_analysis.prepulse:\n",
    "        #    st.amp2 = pre_amp\n",
    "        #    p_v_value = p_n_10mv*((v_value-pre_amp)/params_analysis.pn)\n",
    "        #else:\n",
    "            st.amp2=params_analysis.v_memb\n",
    "            p_v_value = p_n_10mv*((v_value-params_analysis.v_memb)/params_analysis.pn)\n",
    "        st.amp3=v_value\n",
    "\n",
    "        st.rs= params_analysis.ideal_clamp # for ideal clamp set to 0.001\n",
    "\n",
    "        #import pdb; pdb.set_trace()\n",
    "        # record params\n",
    "        vec_i = h.Vector()\n",
    "        vec_i.record(st._ref_i) #nA;\n",
    "        \n",
    "        vec_vm = h.Vector()  \n",
    "        vec_vm.record(st._ref_vc)        \n",
    "\n",
    "        # in addition record m in the end of the axon (Sodium opening variable)        \n",
    "        vec_axonm = h.Vector()\n",
    "        vec_axonm0 = h.Vector()\n",
    "        vec_vaxon = h.Vector()\n",
    "\n",
    "        vect_axons = []\n",
    "        vect_ms = []\n",
    "        vect_m = []\n",
    "        '''\n",
    "        for vec_axons in range(9):\n",
    "            if hallermann: # this does not work for soma-axon model...\n",
    "                new_vect = h.Vector()\n",
    "                new_vect.record(h.axon(0.99)._ref_v) #new_vect.record(h.axon[vec_axons](0.99)._ref_v)\n",
    "                vect_axons.append(new_vect)\n",
    "\n",
    "                new_vect = h.Vector()\n",
    "                new_vect.record(h.axon[vec_axons](0.99)._ref_o_nax)\n",
    "                vect_ms.append(new_vect)\n",
    "        '''\n",
    "        if hallermann:\n",
    "            vec_vaxon.record(h.axon[0](0.99)._ref_v)\n",
    "            #import pdb; pdb.set_trace()\n",
    "            #vec_axonm.record(h.axon[0](0.99)._ref_ina) # <- m is not in hallermann, what is?\n",
    "            vec_axonm.record(h.axon[0](0.99)._ref_o_nax)\n",
    "            vec_axonm0.record(h.axon[0](0.99)._ref_o_na)\n",
    "        else:\n",
    "            try:\n",
    "                vec_axonm.record(h.axon(0.99)._ref_m_na)\n",
    "                vec_vaxon.record(h.axon(0.99)._ref_v)\n",
    "            except:\n",
    "                vec_axonm.record(h.iseg(0.99)._ref_m_na)\n",
    "                vec_vaxon.record(h.iseg(0.99)._ref_v)\n",
    "\n",
    "        h.run()\n",
    "        #import pdb; pdb.set_trace()\n",
    "        '''\n",
    "        # -----\n",
    "        import matplotlib.pylab as plt\n",
    "        plt.plot(np.array(vec_i), label = 'soma i')\n",
    "        plt.plot(p_v_value, label = 'p_v_value')\n",
    "        plt.plot(p_n_10mv, label = 'p_n value')\n",
    "        i_soma = np.array(vec_i) - p_v_value\n",
    "        plt.plot(i_soma, label = 'i_soma')\n",
    "        plt.legend()\n",
    "        plt.show()\n",
    "\n",
    "        vect_axons\n",
    "        arrays_axons = [np.array(item) for item in vect_axons]\n",
    "        [plt.plot(item) for item in arrays_axons]\n",
    "        plt.plot(arrays_axons)\n",
    "        vect_ms\n",
    "        arrays_ms = [np.array(item) for item in vect_ms]\n",
    "        '''\n",
    "        # ------\n",
    "\n",
    "        i_soma = np.array(vec_i) - p_v_value\n",
    "        vm_soma = np.array(vec_vm) \n",
    "        list_i.append(np.array(i_soma))\n",
    "        list_vm.append(np.array(vm_soma))\n",
    "        list_axonm.append(np.array(vec_axonm))\n",
    "        list_vaxon.append(np.array(vec_vaxon))\n",
    "        #import pdb; pdb.set_trace()\n",
    "        # calculate minimum peak from find_peak[0] to find_peak[1]\n",
    "\n",
    "        peak = min(i_soma[(st.dur1+st.dur2+params_analysis.find_peak[0])/h.dt:(st.dur1+st.dur2+params_analysis.find_peak[1])/h.dt])\n",
    "        peaks.append(peak)\n",
    "\n",
    "        peak_place = np.argmin(i_soma[(st.dur1+st.dur2+params_analysis.find_peak[0])/h.dt:(st.dur1+st.dur2+params_analysis.find_peak[1])/h.dt])\n",
    "        peak_places.append(peak_place)\n",
    "        clear_cell() \n",
    "\n",
    "    current = np.array(list_i)\n",
    "    voltage = np.array(list_vm)\n",
    "    axon_m = np.array(list_axonm)\n",
    "    axon_v = np.array(list_vaxon)\n",
    "\n",
    "    time_dt = h.dt  \n",
    "    peaks = np.array(peaks)"
   ]
  }
 ],
 "metadata": {
  "kernelspec": {
   "display_name": "Python 2",
   "language": "python",
   "name": "python2"
  },
  "language_info": {
   "codemirror_mode": {
    "name": "ipython",
    "version": 2
   },
   "file_extension": ".py",
   "mimetype": "text/x-python",
   "name": "python",
   "nbconvert_exporter": "python",
   "pygments_lexer": "ipython2",
   "version": "2.7.11"
  }
 },
 "nbformat": 4,
 "nbformat_minor": 0
}
