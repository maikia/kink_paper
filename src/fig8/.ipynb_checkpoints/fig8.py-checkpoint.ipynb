{
 "cells": [
  {
   "cell_type": "markdown",
   "metadata": {},
   "source": [
    "Fig8, current clamp, slope measurements"
   ]
  },
  {
   "cell_type": "code",
   "execution_count": 1,
   "metadata": {
    "collapsed": true
   },
   "outputs": [],
   "source": [
    "from neuron import h\n",
    "import numpy as np\n",
    "import os.path\n",
    "import sys\n",
    "sys.path.append('../../libs/')"
   ]
  },
  {
   "cell_type": "code",
   "execution_count": null,
   "metadata": {
    "collapsed": true
   },
   "outputs": [],
   "source": [
    "# compile neuron channels\n",
    "!cd ../../data/morphology && nrnivmodl && cd -"
   ]
  },
  {
   "cell_type": "code",
   "execution_count": 2,
   "metadata": {
    "collapsed": false
   },
   "outputs": [
    {
     "data": {
      "text/plain": [
       "0.0"
      ]
     },
     "execution_count": 2,
     "metadata": {},
     "output_type": "execute_result"
    }
   ],
   "source": [
    "# load model\n",
    "# works only on linux\n",
    "model = '../../data/morphology/soma_axon.hoc'\n",
    "dllpath = '../../data/morphology/x86_64/.libs/libnrnmech.so'\n",
    "h.nrn_load_dll(dllpath)\n",
    "h.load_file(model)\n",
    "h.init_cell()"
   ]
  },
  {
   "cell_type": "code",
   "execution_count": 3,
   "metadata": {
    "collapsed": false
   },
   "outputs": [],
   "source": [
    "# parameters\n",
    "keep_soma_Na = True\n",
    "soma_area = 3000 # um\n",
    "thres_range = [5, 100] # values of dV/dt\n",
    "\n",
    "soma_size = np.sqrt(soma_area/np.pi) # d and l\n",
    "if soma_area <20:\n",
    "    stim_amp = 10e-05*soma_area\n",
    "else:\n",
    "    stim_amp = 2.069e-05*soma_area\n",
    "\n",
    "# simulation\n",
    "h.tstart = 0.\n",
    "h.tstop = 20.\n",
    "h.dt = 0.001\n",
    "rm = 30000.\n",
    "st_dur1 = 2.\n",
    "st_dur2 = 3.\n",
    "v_init = -70\n",
    "\n",
    "# morphology \n",
    "h.soma.L = soma_size\n",
    "h.soma.diam = soma_size\n",
    "h.soma.nseg = 6\n",
    "h.soma.g_pas = 1./rm\n",
    "h.soma.cm = 0.75\n",
    "\n",
    "h.axon.L = 50.\n",
    "h.axon.diam =1.\n",
    "h.axon.nseg = 10\n",
    "h.axon.g_pas = 1./rm\n",
    "h.axon.cm = 0.75 * 0.75\n",
    "\n",
    "# general\n",
    "h.rm = rm\n",
    "h.v_init = v_init\n",
    "h.ra = 150 \n",
    "h.c_m = 0.75\n",
    "h.xn = 1 \n",
    "\n",
    "# potassium\n",
    "h.Ek = -80. # mV # Fig2: = 80; Fig4b:\n",
    "h.gk = 1600.\n",
    "h.gkm = 0.3\n",
    "h.soma.gbar_kv = 1600/5.\n",
    "h.axon.gbar_kv = 1600.\n",
    "\n",
    "# sodium\n",
    "h.Ena = 60.\n",
    "h.gna = 8000.\n",
    "h.gkm_soma = 0.3\n",
    "if keep_soma_Na:\n",
    "    h.soma.gbar_na = 0.1*8000\n",
    "else:\n",
    "    h.soma.gbar_na = 0.\n",
    "h.axon.gbar_na = 8000.\n",
    "            \n",
    "# calcium (set no calcium in the model)\n",
    "h.gca = 0.\n",
    "h.gkca = 0.\n",
    "h.gca_soma = 0.\n",
    "h.gkca_soma = 0."
   ]
  },
  {
   "cell_type": "code",
   "execution_count": 4,
   "metadata": {
    "collapsed": false
   },
   "outputs": [],
   "source": [
    "# create I-clamp stimulation\n",
    "st = h.IClamp(0.5, sec = h.soma)\n",
    "st.dur = 7 # ms\n",
    "st.delay = 1\n",
    "st.amp = stim_amp"
   ]
  },
  {
   "cell_type": "code",
   "execution_count": 5,
   "metadata": {
    "collapsed": false
   },
   "outputs": [
    {
     "data": {
      "text/plain": [
       "0.0"
      ]
     },
     "execution_count": 5,
     "metadata": {},
     "output_type": "execute_result"
    }
   ],
   "source": [
    "# record in the soma and in the axon end\n",
    "vec_soma = h.Vector()\n",
    "vec_soma.record(h.soma(0.5)._ref_v, sec=h.soma)\n",
    "vec_axon_end = h.Vector()\n",
    "vec_axon_end.record(h.axon(0.99)._ref_v, sec=h.axon)\n",
    "h.run()"
   ]
  },
  {
   "cell_type": "code",
   "execution_count": 6,
   "metadata": {
    "collapsed": false
   },
   "outputs": [],
   "source": [
    "# calculate slopes\n",
    "v_soma = np.array(vec_soma)\n",
    "v_axon = np.array(vec_axon_end)\n",
    "deriv_soma = np.diff(v_soma)/h.dt\n",
    "deriv_axon = np.diff(v_axon)/h.dt\n",
    "\n",
    "# use only rising slope\n",
    "max_dv_soma = np.argmax(deriv_soma)\n",
    "dv_soma4slope = deriv_soma[:max_dv_soma]\n",
    "v_soma4slope = v_soma[:max_dv_soma]\n",
    "\n",
    "max_dv_axon = np.argmax(deriv_axon)\n",
    "dv_axon4slope = deriv_axon[:max_dv_axon]\n",
    "v_axon4slope = v_axon[:max_dv_axon]\n",
    "\n",
    "# check slopes in mv range > -60 mV\n",
    "rg_idx = np.where(v_soma4slope > -60)[0][0]\n",
    "v_soma4slope = v_soma4slope[rg_idx:]\n",
    "dv_soma4slope = dv_soma4slope[rg_idx:]\n",
    "\n",
    "rg_idx_a = np.where(v_axon4slope > -60)[0][0]\n",
    "v_axon4slope = v_axon4slope[rg_idx_a:]\n",
    "dv_axon4slope = dv_axon4slope[rg_idx_a:]\n",
    "\n",
    "# soma\n",
    "slopes_soma = [(dv_soma4slope[i+1]-dv_soma4slope[i])/(v_soma4slope[i+1]-v_soma4slope[i]) for i in range(len(v_soma4slope)-1)]\n",
    "max_soma = np.max(slopes_soma)\n",
    "max_soma_idx = np.argmax(slopes_soma)+rg_idx\n",
    "\n",
    "# axon\n",
    "slopes_axon = [(dv_axon4slope[i+1]-dv_axon4slope[i])/(v_axon4slope[i+1]-v_axon4slope[i]) for i in range(len(v_axon4slope)-1)]\n",
    "max_axon = np.max(slopes_axon)\n",
    "max_axon_idx = np.argmax(slopes_axon)+rg_idx_a"
   ]
  },
  {
   "cell_type": "code",
   "execution_count": 7,
   "metadata": {
    "collapsed": false
   },
   "outputs": [
    {
     "data": {
      "image/png": "[encoded data removed]",
      "text/plain": [
       "<matplotlib.figure.Figure at 0x7f3d1ce96b90>"
      ]
     },
     "metadata": {},
     "output_type": "display_data"
    }
   ],
   "source": [
    "# plot the figure\n",
    "import matplotlib.pylab as plt\n",
    "%matplotlib inline\n",
    "\n",
    "plt.subplot(2,2,1)\n",
    "time = np.arange(len(v_soma))*h.dt\n",
    "plt.plot(v_soma[:-1], deriv_soma, 'r', label = 'soma')\n",
    "plt.plot(v_soma[:-1][max_soma_idx], deriv_soma[max_soma_idx], 'ko')\n",
    "plt.title('soma')\n",
    "plt.ylabel('dV/dt (mV/ms)')\n",
    "\n",
    "plt.subplot(2,2,2)\n",
    "thres_soma_min = np.where(dv_soma4slope > thres_range[0])[0][0]\n",
    "thres_soma_max = np.where(dv_soma4slope < thres_range[1])[0][-1]\n",
    "plt.plot(dv_soma4slope[thres_soma_min:thres_soma_max], slopes_soma[thres_soma_min:thres_soma_max], 'r')\n",
    "plt.plot(dv_soma4slope[thres_soma_min:thres_soma_max], slopes_soma[thres_soma_min:thres_soma_max], 'r.')\n",
    "plt.plot(dv_soma4slope[max_soma_idx-rg_idx], slopes_soma[max_soma_idx-rg_idx], 'ko')\n",
    "plt.ylabel('phase slope (1/ms)')\n",
    "\n",
    "plt.subplot(2,2,3)\n",
    "plt.plot(v_axon[:-1], deriv_axon, 'b', label = 'axon')\n",
    "plt.plot(v_axon[:-1][max_axon_idx], deriv_axon[max_axon_idx], 'ko')\n",
    "plt.xlabel('voltage (mV)')\n",
    "plt.ylabel('dV/dt (mV/ms)')\n",
    "plt.title('axon')\n",
    "\n",
    "plt.subplot(2,2,4)\n",
    "thres_axon_min = np.where(dv_axon4slope > thres_range[0])[0][0]\n",
    "thres_axon_max = np.where(dv_axon4slope < thres_range[1])[0][-1]\n",
    "plt.plot(dv_axon4slope[thres_soma_min:thres_soma_max], slopes_soma[thres_soma_min:thres_soma_max], 'b')\n",
    "plt.plot(dv_axon4slope[thres_soma_min:thres_soma_max], slopes_soma[thres_soma_min:thres_soma_max], 'b.')\n",
    "plt.plot(dv_axon4slope[max_soma_idx-rg_idx], slopes_soma[max_soma_idx-rg_idx], 'ko')\n",
    "plt.xlabel('dV/dt criterion mV/ms')\n",
    "plt.ylabel('phase slope (1/ms)')\n",
    "plt.tight_layout()"
   ]
  }
 ],
 "metadata": {
  "kernelspec": {
   "display_name": "Python 2",
   "language": "python",
   "name": "python2"
  },
  "language_info": {
   "codemirror_mode": {
    "name": "ipython",
    "version": 2
   },
   "file_extension": ".py",
   "mimetype": "text/x-python",
   "name": "python",
   "nbconvert_exporter": "python",
   "pygments_lexer": "ipython2",
   "version": "2.7.11"
  }
 },
 "nbformat": 4,
 "nbformat_minor": 0
}
